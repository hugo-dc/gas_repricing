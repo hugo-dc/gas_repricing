{
 "cells": [
  {
   "cell_type": "code",
   "execution_count": 1,
   "id": "22bf7e0a",
   "metadata": {},
   "outputs": [],
   "source": [
    "# Constants\n",
    "DATADIR = '../data/'\n",
    "TOTAL_FIELDS = 259"
   ]
  },
  {
   "cell_type": "code",
   "execution_count": 2,
   "id": "2fa6f57d",
   "metadata": {},
   "outputs": [],
   "source": [
    "def read_csv(fname):\n",
    "    fin = open(fname, 'r')\n",
    "    fdata = fin.read()\n",
    "    fin.close\n",
    "    return fdata\n",
    "\n",
    "def write_csv(fname, data):\n",
    "    fout = open(fname, 'w')\n",
    "    fout.write(data)\n",
    "    fout.close()\n",
    "\n",
    "def get_gas_table():\n",
    "    gas_price_data = read_csv(DATADIR + 'gas_table.csv').split('\\n')[:-1]\n",
    "    \n",
    "    gas_table = {}\n",
    "    for d in gas_price_data:\n",
    "        fields = d.split(',')\n",
    "        gas_table[fields[0]] = {\n",
    "            'current_gas_cost': fields[1],\n",
    "            'proposed_gas_cost': fields[2],\n",
    "            'mnemonic': fields[3],\n",
    "        }\n",
    "    return gas_table\n",
    "\n",
    "def convert_to_csv(data):\n",
    "    out_str = ''\n",
    "    for line in data:\n",
    "        out_str += ','.join(line) + '\\n'\n",
    "    return out_str"
   ]
  },
  {
   "cell_type": "code",
   "execution_count": 3,
   "id": "f33d8669",
   "metadata": {},
   "outputs": [],
   "source": [
    "gas_table = get_gas_table()"
   ]
  },
  {
   "cell_type": "code",
   "execution_count": 4,
   "id": "8cee0022",
   "metadata": {},
   "outputs": [
    {
     "name": "stdout",
     "output_type": "stream",
     "text": [
      ">>> ignoring block 12207103 (gasUsed =  0 )\n"
     ]
    }
   ],
   "source": [
    "csv_data = read_csv('../data/histogram_2.csv').split('\\n')\n",
    "\n",
    "header = csv_data[:2]\n",
    "data = csv_data[2:]\n",
    "\n",
    "opnames = csv_data[0].split(',')\n",
    "opnums  = csv_data[1].split(',')\n",
    "\n",
    "output_data = []\n",
    "\n",
    "for dt in data:\n",
    "    # Calculate using current cost\n",
    "    fields = dt.split(',')\n",
    "    \n",
    "    # Ignore empty or truncated lines\n",
    "    if len(fields) != TOTAL_FIELDS:\n",
    "        continue\n",
    "    \n",
    "    # Ignore lines containing just 0s\n",
    "    block_number = fields[0]\n",
    "    block_gas_usage = fields[1]\n",
    "    \n",
    "    if block_number == \"0\":\n",
    "        continue\n",
    "    \n",
    "    block_total = 0\n",
    "    block_new_total = 0\n",
    "    \n",
    "    # For the opcodes in the gas table:\n",
    "    # - get the total of gas used\n",
    "    # - get the total of gas used with new pricings\n",
    "    # - get the difference\n",
    "    ix = 2\n",
    "    for count in fields[2:]:\n",
    "        opnum = opnums[ix]\n",
    "        opname = opnames[ix]\n",
    "        \n",
    "        if opnum in gas_table.keys():\n",
    "            cost = gas_table[opnum]['current_gas_cost']\n",
    "            total = int(count) * int(cost)\n",
    "            new_cost = gas_table[opnum]['proposed_gas_cost']\n",
    "            new_total = int(count) * int(new_cost)\n",
    "            #diff = total - new_total\n",
    "            \n",
    "            block_total += total\n",
    "            block_new_total += new_total      \n",
    "        ix += 1\n",
    "\n",
    "    # Substracts the difference from the initial block's gas used\n",
    "    diff = block_total - block_new_total\n",
    "    new_block_gas_usage = int(block_gas_usage) - diff\n",
    "        \n",
    "    # Calculate the % decreased\n",
    "    decrease = int(block_gas_usage) - new_block_gas_usage\n",
    "    \n",
    "    try:\n",
    "        decrease_perc = (decrease / float(block_gas_usage)) * 100\n",
    "    except:\n",
    "        print('>>> ignoring block', block_number, '(gasUsed = ', block_gas_usage, ')')\n",
    "        continue   \n",
    "    \n",
    "    # Collect new results including new_block_gas_usage, decrease and %\n",
    "    data_line = [block_number, block_gas_usage, str(new_block_gas_usage), str(decrease), \"{:.4f}\".format(decrease_perc) + '%'] + fields[2:]\n",
    "    output_data.append(data_line)\n"
   ]
  },
  {
   "cell_type": "code",
   "execution_count": 5,
   "id": "357269a9",
   "metadata": {},
   "outputs": [],
   "source": [
    "# Write data as csv\n",
    "output_csv = convert_to_csv(output_data)\n",
    "write_csv(DATADIR + 'histogram_result.csv', output_csv)\n"
   ]
  },
  {
   "cell_type": "code",
   "execution_count": null,
   "id": "f685b86c",
   "metadata": {},
   "outputs": [],
   "source": []
  },
  {
   "cell_type": "code",
   "execution_count": null,
   "id": "e036a28c",
   "metadata": {},
   "outputs": [],
   "source": []
  },
  {
   "cell_type": "code",
   "execution_count": null,
   "id": "c3cc5d1e",
   "metadata": {},
   "outputs": [],
   "source": []
  },
  {
   "cell_type": "code",
   "execution_count": null,
   "id": "555c0da7",
   "metadata": {},
   "outputs": [],
   "source": []
  },
  {
   "cell_type": "code",
   "execution_count": null,
   "id": "6c847b05",
   "metadata": {},
   "outputs": [],
   "source": []
  }
 ],
 "metadata": {
  "kernelspec": {
   "display_name": "Python 3",
   "language": "python",
   "name": "python3"
  },
  "language_info": {
   "codemirror_mode": {
    "name": "ipython",
    "version": 3
   },
   "file_extension": ".py",
   "mimetype": "text/x-python",
   "name": "python",
   "nbconvert_exporter": "python",
   "pygments_lexer": "ipython3",
   "version": "3.9.2"
  }
 },
 "nbformat": 4,
 "nbformat_minor": 5
}
