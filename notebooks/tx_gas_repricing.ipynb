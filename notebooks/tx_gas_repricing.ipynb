{
 "cells": [
  {
   "cell_type": "code",
   "execution_count": 1,
   "id": "7b3305e4",
   "metadata": {},
   "outputs": [],
   "source": [
    "import pandas as pd\n",
    "import numpy as np"
   ]
  },
  {
   "cell_type": "code",
   "execution_count": 2,
   "id": "90ce8a87",
   "metadata": {},
   "outputs": [],
   "source": [
    "pd.options.display.max_columns = None\n",
    "pd.options.display.max_rows = None"
   ]
  },
  {
   "cell_type": "code",
   "execution_count": 3,
   "id": "cf233111",
   "metadata": {},
   "outputs": [],
   "source": [
    "# Constants\n",
    "TOTAL_FIELDS = 259\n",
    "DATADIR = '../data/'\n",
    "RESULTDIR = '../results/'\n",
    "FILE = 'uniswap.csv'"
   ]
  },
  {
   "cell_type": "code",
   "execution_count": 4,
   "id": "28381339",
   "metadata": {},
   "outputs": [],
   "source": [
    "# Functions\n",
    "def get_gas_table():\n",
    "    gas_price_data = read_csv(DATADIR + 'gas_table.csv')\n",
    "    gas_table = {}\n",
    "    for fields in gas_price_data:\n",
    "        if len(fields) == 4:\n",
    "            gas_table[int(fields[0], 16)] = {\n",
    "                'current_gas_cost': fields[1],\n",
    "                'proposed_gas_cost': fields[2],\n",
    "                'mnemonic': fields[3],\n",
    "            }\n",
    "    return gas_table\n",
    "\n",
    "# Calculates new gas used based on the gas_table\n",
    "def apply_gas_table(line):\n",
    "    gas_table = get_gas_table()\n",
    "    for ix, op in enumerate(line):\n",
    "        print(ix, op)"
   ]
  },
  {
   "cell_type": "code",
   "execution_count": 5,
   "id": "e746a488",
   "metadata": {},
   "outputs": [],
   "source": [
    "def read_csv(file):\n",
    "    fin = open(file, 'r')\n",
    "    data = fin.read()\n",
    "    fin.close()\n",
    "    data = data.split('\\n')\n",
    "    data = [line.split(',') for line  in data]\n",
    "    return data"
   ]
  },
  {
   "cell_type": "code",
   "execution_count": 6,
   "id": "5624cefb",
   "metadata": {},
   "outputs": [],
   "source": [
    "def convert_data(data):\n",
    "    final_data = []\n",
    "    for line in data:\n",
    "        new_line = [int(elem) if i > 1 else elem for i, elem in enumerate(line)]\n",
    "        final_data.append(new_line)\n",
    "    return final_data\n",
    "\n",
    "def write_csv(fname, data):\n",
    "    fout = open(fname, 'w')\n",
    "    fout.write(data)\n",
    "    fout.close()    \n",
    "\n",
    "\n",
    "def convert_to_csv(data):\n",
    "    out_str = ''\n",
    "    for line in data:\n",
    "        line = [x if isinstance(x, str) else str(x) for x in line]\n",
    "        out_str += ','.join(line) + '\\n'\n",
    "    return out_str\n",
    "        \n",
    "def apply_gas_table(columns_name, gas_table, line):\n",
    "    if len(line) != TOTAL_FIELDS:\n",
    "        return None\n",
    "    \n",
    "    tx_gas_used = int(line[2])\n",
    "    \n",
    "    if tx_gas_used == 0:\n",
    "        print('Ignoring transaction', line[1], 'gasUsed:', tx_gas_used)\n",
    "        return None\n",
    "    \n",
    "    opdata = line[3:]\n",
    "    \n",
    "    tx_total = 0\n",
    "    tx_new_total = 0\n",
    "    line_out = []\n",
    "    for ix, count in enumerate(opdata):\n",
    "        opnum = ix\n",
    "        opname = columns_name[opnum+3]\n",
    "        if ix in gas_table.keys():\n",
    "            cost = gas_table[opnum]['current_gas_cost']\n",
    "            total = int(count) * int(cost)\n",
    "            new_cost = gas_table[opnum]['proposed_gas_cost']\n",
    "            new_total = int(count) * int(new_cost)\n",
    "            \n",
    "            tx_total += total\n",
    "            tx_new_total += new_total\n",
    "            \n",
    "    diff = tx_total - tx_new_total\n",
    "    # Substracts the difference to the tx gasUsage\n",
    "    new_tx_gas_used = tx_gas_used - diff\n",
    "    decrease = tx_gas_used - new_tx_gas_used\n",
    "    decrease_perc = (decrease / float(tx_gas_used)) * 100\n",
    "    \n",
    "    #         [Block #, Tx, Gas Used] + [new_gas_used, difference, percentage] + [opdata]\n",
    "    line_out = line[:2] + [int(line[2]), int(new_tx_gas_used), int(diff), float(\"{:.2f}\".format(decrease_perc))] + line[3:]\n",
    "    return line_out\n"
   ]
  },
  {
   "cell_type": "code",
   "execution_count": null,
   "id": "c3099ceb",
   "metadata": {},
   "outputs": [],
   "source": []
  },
  {
   "cell_type": "code",
   "execution_count": 7,
   "id": "885e6754",
   "metadata": {},
   "outputs": [],
   "source": [
    "def analyze_data(filename):\n",
    "    csv = read_csv(filename)\n",
    "    columns_name = csv[0]\n",
    "    columns_value = csv[1]\n",
    "    data = convert_data(csv[2:])\n",
    "    \n",
    "    data_result = []\n",
    "\n",
    "    # Add new fields: Gas Used Rp. and Difference\n",
    "    for line in data:\n",
    "        new_line = apply_gas_table(columns_name, gas_table, line)\n",
    "        if new_line:\n",
    "            data_result.append(new_line)\n",
    "            \n",
    "    return columns_name, columns_value, data_result"
   ]
  },
  {
   "cell_type": "code",
   "execution_count": 8,
   "id": "b2cd47e2",
   "metadata": {},
   "outputs": [],
   "source": [
    "def get_sample(data, columns, filter_columns):\n",
    "    df = pd.DataFrame(data, columns=columns)\n",
    "    return df[filter_columns]"
   ]
  },
  {
   "cell_type": "code",
   "execution_count": 9,
   "id": "527e75d3",
   "metadata": {},
   "outputs": [],
   "source": [
    "gas_table = get_gas_table()"
   ]
  },
  {
   "cell_type": "code",
   "execution_count": 10,
   "id": "fabf8446",
   "metadata": {},
   "outputs": [
    {
     "name": "stdout",
     "output_type": "stream",
     "text": [
      "Ignoring transaction 0xc75a1a1ff3b671eaf1e02139573d448c665fe183aa39d678b616db9549c83588 gasUsed: 0\n",
      "Ignoring transaction 0x7b8a5b9663a3be6015cb53224d42896cb2ca8cd7c82702200fdc304ce1b116b0 gasUsed: 0\n",
      "Ignoring transaction 0xf9a29b31b92bae188dd3b4e526506d4094311a5b03ac7685497adf0b15a13289 gasUsed: 0\n",
      "Ignoring transaction 0xb8af5e42a5cc84c71fe220792b2d3c0685898252a216ff9f7e4d20bff12538f7 gasUsed: 0\n",
      "Ignoring transaction 0x8f2bcfcce8f05f690de078da1d9eb93ac007b7cc0b8677c6f9a9ec432389a87a gasUsed: 0\n",
      "Ignoring transaction 0x860878d13ad812d647d9966d474e3581583f01f6f93f35bab85c14da0327a747 gasUsed: 0\n",
      "Ignoring transaction 0x3a18703fb65864e753dfcf0bf0d3503871577ce6bfce370f55ac4c922c1a605b gasUsed: 0\n",
      "Ignoring transaction 0x1c392fb0939bd3785b5876b0398efef1881d574cdeafa37b073afe7faac8b7ae gasUsed: 0\n",
      "Ignoring transaction 0x08e91987a701c5005ae9118a6572ce66a0d0cc1f4d7ebb228038fa0adc6eb7d7 gasUsed: 0\n",
      "Ignoring transaction 0x29fb33ae2c2360eb3b0eff87342be17dfe8095104e690d808c1864aa685b434d gasUsed: 0\n",
      "Ignoring transaction 0x03c8a961c272ceed987462293dd1bdb0e0744842fcbc6fe083ba4872f2672d05 gasUsed: 0\n",
      "Ignoring transaction 0xe65eb16ff2af8c56c28d39acbfb4f33f494547b84bb57dcae8c395f6cbea27d7 gasUsed: 0\n",
      "Ignoring transaction 0x138705eb7ce42fae4c39cbbabde4e323631eeb3b43da52c4d779cc826b0b2bff gasUsed: 0\n",
      "Ignoring transaction 0x11860ca02af85b371487284e8652a2d2cdcd910f73bbc66bf555ca905afa6966 gasUsed: 0\n",
      "Ignoring transaction 0x75593b024536844590deccb1447f44aab76896fd7a0808871decfbd1c0bb09ce gasUsed: 0\n",
      "Ignoring transaction 0xf9edb91b621c9673bdda26732fbfbd21e1ae3057dc31be85eae53f0d67b48b49 gasUsed: 0\n",
      "Ignoring transaction 0xfb5e649f0caf3fefdc6d392af4fa01e36869f1be358e271faede4896c8406bb9 gasUsed: 0\n",
      "Ignoring transaction 0x2212581d5ac51563fdee6f21e28431d306ba2d0d2f32cbd8db2cc9ecc3d09a1d gasUsed: 0\n",
      "Ignoring transaction 0x64561e9e5bbfd7812b76794b444300dbdd5bc5d7af19ba79d298fb2994c3669b gasUsed: 0\n",
      "Ignoring transaction 0xb803cdb21f64bfd1732034508a68f0d8f9f7b29b750d251603f5032eebfb4c75 gasUsed: 0\n",
      "Ignoring transaction 0x6bad86d50f51e74b9887156f1079e79b287c5def85d5bca23d239a96893921fc gasUsed: 0\n",
      "Ignoring transaction 0x5369e997321ee6393441ca1b5baa0fb092c89546ecfab5a619b3c874b57ae4a2 gasUsed: 0\n",
      "Ignoring transaction 0xbf52d5b98a74076431c1857dcf111ff788975bb8726b65d30fffbaeb91096c2d gasUsed: 0\n",
      "Ignoring transaction 0x11f0ff772c00b71c106fa8e9f203b90987cd83f56c12c31b950e878b6cc3d317 gasUsed: 0\n",
      "Ignoring transaction 0xe0898140aa45b8f56bfa2fd36e13ef32ca2ad117358547169abb97e7370a86f5 gasUsed: 0\n",
      "Ignoring transaction 0x122c986476641a3d1e6243424e36b61c1fcefb4ab13489d8fe6a071975b1a142 gasUsed: 0\n",
      "Ignoring transaction 0x4ef0e5c9c23ce015a78ea308723356b5b289140a6124a27039a55cb16498572c gasUsed: 0\n",
      "Ignoring transaction 0xad904a25f71edeab6bc4c4e8603dafdb7446a3741de31e050b3ea802bc9c39c2 gasUsed: 0\n",
      "Ignoring transaction 0x834a08f8fd62f54addca33017c52fd7f1d9ac55ae3eafaa6820173ad51f3754c gasUsed: 0\n",
      "Ignoring transaction 0x087f58fed5d9375c7b34abde1da8ccb2c983c16a0992329711c3470bd9ac733a gasUsed: 0\n",
      "Ignoring transaction 0x735a8ec80d1921da326e6af47396cf5d26122fccc2b9321fedfd74ee46752bb8 gasUsed: 0\n",
      "Ignoring transaction 0x1c6c0551999cae19b6013da08a8cac76b5df5b063ca0ba61720c70c0790cbdb5 gasUsed: 0\n",
      "Ignoring transaction 0x82ab6638b8b1bec63db288d655be642cb281576de25d2f3332cdfe38d741df8d gasUsed: 0\n",
      "Ignoring transaction 0xf508758869f1a96f192b67ab1d94fff284383e1d2e65010139d2816392d5dd1b gasUsed: 0\n",
      "Ignoring transaction 0x047c0285c47d2cd62b05f339e560a3cc32801d14e20466074e11870ce24689ba gasUsed: 0\n",
      "Ignoring transaction 0x78cbc139ef710224bb2318dff948a74ff1a37144676ac0dfc71908de35d3181f gasUsed: 0\n",
      "Ignoring transaction 0x7bd094d28eb2ec9aa07d034baa2a6f2ac31a34fbeb972d704a9d72abead515f2 gasUsed: 0\n",
      "Ignoring transaction 0xde443267fdcd036ceda1c007d86f4f956e361bf0610a6c7b476021ea0fc134f6 gasUsed: 0\n",
      "Ignoring transaction 0x27741fc4ec3b62330a56e37e9a8c7a2be5af68d661827b31eab80ad5f219ac6f gasUsed: 0\n",
      "Ignoring transaction 0x34e1c3bb9a7c491a390d304cb2362c09bd7819a32e883a16153a8614a97b2f65 gasUsed: 0\n",
      "Ignoring transaction 0xf33da0c5642ddf52a29c281c859a6426d9871c09c25004c8bfa3cafe6db11a97 gasUsed: 0\n",
      "Ignoring transaction 0xaf7ea3ed7f90c06f7fc3b8cf0a0a34f838e07fd4a55c8f5e687e3c4b378e04a4 gasUsed: 0\n",
      "Ignoring transaction 0x18cf638fe876494dce6d1f0688e4f99269c453a08417585d48f035c78b5e81bb gasUsed: 0\n",
      "Ignoring transaction 0xb10c468b68aee6cc1c6cdf9aaacb93f0bb0b41e38ca695ddeb7eac8d649f4848 gasUsed: 0\n",
      "Ignoring transaction 0xae5aefe8e1bb96afcdd315bba1ed513eb85ce4e212051ad9167d620ba6e6941a gasUsed: 0\n",
      "Ignoring transaction 0x555a5bcfab6104d8e46ec97432019ee533d3a528c52c8c4bc1b568eaeb72e260 gasUsed: 0\n",
      "Ignoring transaction 0x4e984479bf1486d77a7cef5c5806b4313e87c8afc9a568b646b97d3946d0cda1 gasUsed: 0\n",
      "Ignoring transaction 0x757b4a1755ad5d6ec81274c368916ecdc84797aa86002f7ccf6313133cb206ff gasUsed: 0\n",
      "Ignoring transaction 0xa295aa0dc2905540c4f3abc717d4c4be4cacf299908880e1d8f2f0a1e7e36312 gasUsed: 0\n",
      "Ignoring transaction 0x20970613cadf8774ff5a1cb1c9c01abf3bd23b84e1463aa48bf4672bccd7c7c4 gasUsed: 0\n",
      "Ignoring transaction 0xcb5e64e9db64be4eaf2e89bea23b74e8da341ec5fae4860f0594d415d5254c9a gasUsed: 0\n",
      "Ignoring transaction 0xcb5e64e9db64be4eaf2e89bea23b74e8da341ec5fae4860f0594d415d5254c9a gasUsed: 0\n",
      "Ignoring transaction 0x1adf0a20c942468e59368dd6e68e0d28eaa5d295a543d537906c184ea7c8a51d gasUsed: 0\n",
      "Ignoring transaction 0xe06e9c41842c721b49676ad6fbc567d76a17bec8028511546fce54a1b335114f gasUsed: 0\n",
      "Ignoring transaction 0x98e515aa1da88cc4f78fb296f299cd536f45708445515d7477294d7214be9859 gasUsed: 0\n",
      "Ignoring transaction 0x4c7834f9531856800d1836279a3aa0cdae1672b6854ee2c1059f091ec9772e94 gasUsed: 0\n",
      "Ignoring transaction 0xd78cdf4340c9dbbfc80567729f64229e79e0106a9072b68a502308d0ade6381b gasUsed: 0\n",
      "Ignoring transaction 0x2f86293f6aff52b981d356c27d80607feed97e814d21cf35e8e835055d6537a4 gasUsed: 0\n",
      "Ignoring transaction 0x5f38f8a51153d4835fc7aac9a57538a067784dd7f7afe997f70a6be3a5e55fa9 gasUsed: 0\n",
      "Ignoring transaction 0x210e35d3f3674a2dd66a31770233456198b15918e5657f7b41dc93ecb7494e2e gasUsed: 0\n",
      "Ignoring transaction 0xbd75ac0636402c2ee9499f7ecd8f7346fa72f442f65ba0c26391dbf41de3bc94 gasUsed: 0\n",
      "Ignoring transaction 0x82f169851e400d73e9c4df541c4bb3ee94b575dec1a1c0e81e3233778c40e7a0 gasUsed: 0\n",
      "Ignoring transaction 0xf0e72b67daf686e3603da8ebe0482cf24238a66562fbfcabf1e81bacc84c8039 gasUsed: 0\n",
      "Ignoring transaction 0x9b6de29b709f74bcd7fa3e1c5d3ba3714de75ffd197b11cc8d3d9cf06d8e7cde gasUsed: 0\n",
      "Ignoring transaction 0xa93d124168f4454319b714b403e59e119932bb214a2381e6d7fedde97b4f1e18 gasUsed: 0\n",
      "Ignoring transaction 0xbe5911604a78250e14eb5d37db038f13a24ac598c7c212e65fa0abf61404b609 gasUsed: 0\n",
      "Ignoring transaction 0x31649bfb90c0b2977a30cf6d7f653e7244f19a698e5000ab8c2b9d118e99a6c5 gasUsed: 0\n",
      "Ignoring transaction 0xcd0cdccd2f66f5d6b14a1a5f1874731d2a91ca8791e8b70f404e2d03ddb2b2d1 gasUsed: 0\n",
      "Ignoring transaction 0xe3710798bd659b9a464f814d9bbbc18a435cb4416157fedb2228d0105ad302a0 gasUsed: 0\n",
      "Ignoring transaction 0x8da2cd7279adddd9020bb9d19507b8673276998afe3b9fda588e08c80bf98382 gasUsed: 0\n",
      "Ignoring transaction 0xc29cfaf3df613fb278535d9468dfc4a5a1a34bea0cae10789a5ddca717a8b947 gasUsed: 0\n",
      "Ignoring transaction 0x80c264fbafc55c6acd74d0e3dda32d638ad1052ca6644168be8e893a11055a80 gasUsed: 0\n",
      "Ignoring transaction 0x8bd7f7e26f252d30390e54a5ab54822a9b0bc7c43c5af7516d800580cc607ac8 gasUsed: 0\n",
      "Ignoring transaction 0x3b937ec01ba2810dfaf1cd05a08264d665c11b56b7a50f53c45988f9e2031185 gasUsed: 0\n",
      "Ignoring transaction 0x51f4129354c29381518dac4e35b20bacdd65a1fb5ce6413f88a9ce2f309e02e3 gasUsed: 0\n",
      "Ignoring transaction 0x9552fe8b6b61f2baa313e82ce221f4d4c35e940d4d2c0c8c02bfbf70808f47ce gasUsed: 0\n",
      "Ignoring transaction 0xa5f5a1f33648ef812915f83b2f6a19560870c3b03b08a8a7be92e05461477149 gasUsed: 0\n",
      "Ignoring transaction 0xcb6b3dfdaa2e4e41da82a1dec8d908d81ce9963e3a778efc7fda464c940e532c gasUsed: 0\n",
      "Ignoring transaction 0xbd93cb5412c02f7edb87ba71fe7eeb524c608c4f031795837756183614a1623e gasUsed: 0\n",
      "Ignoring transaction 0x9b0ab682c00c9a8cddf679ad63b526fdfba95832a2bbd0b9351a5c2d4fbc73a7 gasUsed: 0\n",
      "Ignoring transaction 0xb64f7854fdb95e364756b9b98897ca046e4c7d21e483049811fc7ae3f4edf46d gasUsed: 0\n",
      "Ignoring transaction 0xcb3f9226392d8281ec39b0369a546300719c651fa1828c3b616d048120909969 gasUsed: 0\n",
      "Ignoring transaction 0x53086ff4f18fe48f940a077463f593c630ec6aba8ae46d6117261562f2217a2d gasUsed: 0\n",
      "Ignoring transaction 0xea319464deeda5117a53738a563c7ebedab863f9fcc38236a22e5d719d28d202 gasUsed: 0\n",
      "Ignoring transaction 0xb93c40f199532d14b08c9aec9e90ec1c64c9ddc49b29ec1b600549b74ef47c63 gasUsed: 0\n",
      "Ignoring transaction 0x85ad4f2752ec7e8caf9048b82d3c34d9c58857bd3ae244dc952f4a6ab685b7be gasUsed: 0\n",
      "Ignoring transaction 0x1f054bf23b8356a8f105ce2805e80cce61a747184de9f3e9e5d7bfe7aa70f096 gasUsed: 0\n",
      "Ignoring transaction 0x3c101b5d05f7af26dc77d2fa949976db6340f5adf4cf3f5fdbf65dddc9a866cf gasUsed: 0\n"
     ]
    },
    {
     "name": "stdout",
     "output_type": "stream",
     "text": [
      "Ignoring transaction 0xc984ec00f69f7376e2b27f3c32a5936d439d46217b9fa1d0857bd06ec7aee7a3 gasUsed: 0\n",
      "Ignoring transaction 0x45bbe059af21ce9c1783303e0dacfcbb9c73910a4de67f6c49cb48dda200a8cd gasUsed: 0\n",
      "Ignoring transaction 0xb9cc3ccd5fdf01bb6823df62b683669c83f020e3e4a3c63871c3e242d0dff25c gasUsed: 0\n",
      "Ignoring transaction 0xd911ba96f5846ac1e66dba0624659a6bc52ba0fd9abf378ea15ad866e575eaaa gasUsed: 0\n",
      "Ignoring transaction 0x4ad7827b9c7b610c4275140efa19326e0494272571a9c9265927872b95c5cd85 gasUsed: 0\n",
      "Ignoring transaction 0xabd5fe6c1cc4e0bddaf119277960e75fcc19164d3dc1fb3a852537c272d5c813 gasUsed: 0\n",
      "Ignoring transaction 0x03ee2acb858d385ce0bcbe5f40df997dbc0f29813e5c3ca6ede6c2ceebe1e116 gasUsed: 0\n",
      "Ignoring transaction 0xf785ef39e75acd3ca627142d82149aca60965e583cb012870f75741c69ff9ac8 gasUsed: 0\n",
      "Ignoring transaction 0xb2570338ffaede0b17dc73cef4331215fcd15a6a42e48255acce0a4cc7ce4319 gasUsed: 0\n",
      "Ignoring transaction 0x72a62c143c78da0a3e91de6f4828a7a4e18cec3484ca0c6e293d8fef4f633cf6 gasUsed: 0\n",
      "Ignoring transaction 0xb2d14d2f07f46f7dd818acf08d59a535b1ffb9fcbd834a7e876e6ee9fe54fc9f gasUsed: 0\n",
      "Ignoring transaction 0x253f2f5adbd77edd6ad13e10f4e7d76bc7f183a9ac08ff8196f1267d39f5afe1 gasUsed: 0\n",
      "Ignoring transaction 0x42e3ca27d95bd762c50849aca157c1ab38dff66329ed3250e842cd0097cb850d gasUsed: 0\n",
      "Ignoring transaction 0x244bd9b0b4fa03b6432714ba6895f73fc58956c15d721c3b72b383212d1cdabd gasUsed: 0\n",
      "Ignoring transaction 0x6b49bfb823011d617dab8f982221125a213fd0ee9069c05fe6a0d96ea3258cf5 gasUsed: 0\n",
      "Ignoring transaction 0xd5d3331add17acb43f6df0d0f90d0495c4e8ab8596483707650bfec7be75eac6 gasUsed: 0\n",
      "Ignoring transaction 0xf377da7b5469155f198c68eb490b0de26d2dbefefdd6db5d33203902dfaae6b3 gasUsed: 0\n",
      "Ignoring transaction 0xcd2397e2f3683e247776f0dd624e1b639312c2521ff6053d5ac081a72435e75d gasUsed: 0\n",
      "Ignoring transaction 0xa20d10cb26cd516b3537c45b19e21c5deeb95c1ef59d62e114101c9edcadcb7b gasUsed: 0\n",
      "Ignoring transaction 0x31ff4cd9eb098f74d9a3090543565cc885483ad08b31dcb8d209ae1bd7f8508f gasUsed: 0\n",
      "Ignoring transaction 0xec2af7aa2c190fe87d6add27d52d70a69fea27180b2f363ecf78ffac8c040fcb gasUsed: 0\n",
      "Ignoring transaction 0xec2af7aa2c190fe87d6add27d52d70a69fea27180b2f363ecf78ffac8c040fcb gasUsed: 0\n",
      "Ignoring transaction 0x28b7b4b5f503c942b7cdb46cd3661ff0e22ce3d9424b743868966fb1034d4127 gasUsed: 0\n",
      "Ignoring transaction 0x92404c360011efce321c122a747bfb10347be1c14480e4f0b92f6b4fe957be67 gasUsed: 0\n",
      "Ignoring transaction 0x63dd36238b33888f12c60e49bc3a1e5dcb480058498c15a3b8225d45737ce760 gasUsed: 0\n",
      "Ignoring transaction 0xeedcdb21b74606374903246ecad7e421a25c49587e16be725ae5627aae4511f8 gasUsed: 0\n",
      "Ignoring transaction 0xc06c1fcd769aea3ab8d17b3eace28774490d3b2cea9fdb49c005827aaec4a59d gasUsed: 0\n",
      "Ignoring transaction 0x80bd6a74aee9d64b61c4dde0345705f6917baeda98c8113ffc6469311ce39185 gasUsed: 0\n",
      "Ignoring transaction 0x87bae562f00762acf1ee9053b41d38e4e619a40602c0b7fb1889ff4444f321d8 gasUsed: 0\n",
      "Ignoring transaction 0x33f0d579b9b1830fd8a7a44e92f5bd9ac92614b457d05ee662c22738d0c539df gasUsed: 0\n",
      "Ignoring transaction 0x33f0d579b9b1830fd8a7a44e92f5bd9ac92614b457d05ee662c22738d0c539df gasUsed: 0\n",
      "Ignoring transaction 0xe545a2265bc89b512230bc4dd0cc165145f6d2283e16137645d1c70418576140 gasUsed: 0\n",
      "Ignoring transaction 0x292f54f5aee2154f28af1dd23c15aa242abe7623d6debffa8470d6c88ab5ca6e gasUsed: 0\n",
      "Ignoring transaction 0xde14716aea588f8a37da4a1140a7277b5a405e06f6346a97f5baf526c09aa6e8 gasUsed: 0\n",
      "Ignoring transaction 0x38b375cf76bd710966ba903eb824c2abf024bf0284776d63d563762cb3f7414a gasUsed: 0\n",
      "Ignoring transaction 0x66afb5ed20a5f9eedc3b4df1bb86e9c89a7fd6ff00b979edeb3db3ea07267ff5 gasUsed: 0\n",
      "Ignoring transaction 0x0c399a38c851f7db3616b7075afd849bdbe1bf7044eb497220d9bbd703787c71 gasUsed: 0\n",
      "Ignoring transaction 0x132c88a28bd352f56d31de36eaad02b377b81dcb21432b5caf57bf88c691cccd gasUsed: 0\n",
      "Ignoring transaction 0xbdd3ce05fb43907a548dbd95722bd6acbb95e816a54c765635ae8fefd3fe0806 gasUsed: 0\n",
      "Ignoring transaction 0x5f2531bc7df4fe540517916e609e2704490704cc5fb657d9f6f555414bfe7a51 gasUsed: 0\n",
      "Ignoring transaction 0x418d5513afa304ab3bec68fa157311039a7a852d4685014d1013296bbc4b022b gasUsed: 0\n",
      "Ignoring transaction 0xe0142c92179aa8f30d2260442e52b8dc47b1179a218c5bd2edd1d4472b8ee19f gasUsed: 0\n",
      "Ignoring transaction 0x608909ffaec19e5a31ed9ada38002c6ee88b3b0b205315c60b80bd51ed55d766 gasUsed: 0\n",
      "Ignoring transaction 0xcd6a8fa183ca7bad9a6d49c2817473199bbb6707b6e482068514160eae3e3131 gasUsed: 0\n",
      "Ignoring transaction 0x7e6e6288f5ba00177415dd62f28d0ee67fe2c79e01f2cd1a103bc60c4a19041f gasUsed: 0\n",
      "Ignoring transaction 0x6bf9d9d4537cf718fe1ef4ee01aa65e707cf1a10b4f81f48cf54eb85a905b1ab gasUsed: 0\n",
      "Ignoring transaction 0x2f680f6fad42f2fa96bbd031f67c21f77843e6a60eac4e854c0cfcbc3e9d60d7 gasUsed: 0\n",
      "Ignoring transaction 0x4c39c259a2b79bd8a119c18643c5e5a8dc160591561b6443eccceb06c546539d gasUsed: 0\n",
      "Ignoring transaction 0x0dcdeb4e61fc968b90a6c48b672bcd03eda9d5db1382313b8f59994859dca1b5 gasUsed: 0\n",
      "Ignoring transaction 0x3a4286fa162eec20dc5d4b7eb7fbbe7c8dc1d58501f52c1fbedfb9c5efe6e3ff gasUsed: 0\n",
      "Ignoring transaction 0x907bc42f3632ee4bad40741ec0355508cf7a9b14db0bb643d2694a1027ddfaa9 gasUsed: 0\n",
      "Ignoring transaction 0xff8ba134580cc3fe7652717cc51356065266f18fad402b9b0bb2cfc7e3a85be5 gasUsed: 0\n",
      "Ignoring transaction 0x75050fe164d0d9b4a09fb923e97c3db897515d14d44fea1efeda4a2b165c88c8 gasUsed: 0\n",
      "Ignoring transaction 0x5fc632581a43f2b35833e3742d4ab979da67869b55e2aaa293164bbd808581f1 gasUsed: 0\n",
      "Ignoring transaction 0xd335adcbf494008154486d3c8b1ee78f844ac9d5d763b6346701b0d0aacc34f2 gasUsed: 0\n",
      "Ignoring transaction 0xdb492890fd7eb72b4d5c638f14d8b21a81a099f53a4a046d1591a195af74ef2d gasUsed: 0\n",
      "Ignoring transaction 0xb43b5aea24ffc4efc43d458fa06003e6e76f6dd2e8fb23e7557f2947a08e3b84 gasUsed: 0\n",
      "Ignoring transaction 0x7a29b32994c41855771ba2e0b409d374b56ad69412251ef4d66f4f114e0efcaa gasUsed: 0\n",
      "Ignoring transaction 0x2100423507a2b5875b0c5987430399434285f7e894cbe564fbf40f6858f54c4c gasUsed: 0\n",
      "Ignoring transaction 0x72fcd205324c6eb29fc582d41ddceee7c6747ba65a8a80955538a22a4d3d93dc gasUsed: 0\n",
      "Ignoring transaction 0xb4c82fbb3721d432e745aa776e6cd6bd12f407918bd0406dba092b76e72db56e gasUsed: 0\n",
      "Ignoring transaction 0x8a8d8bc8a7b444b25e547488382a52f934effab00a7a5e46bae1eea96ef2c3c0 gasUsed: 0\n",
      "Ignoring transaction 0x139cff825ef219ffcadeb133016f8c9afdd26e415d0fb79dcfcfcdf09a5edae1 gasUsed: 0\n",
      "Ignoring transaction 0x4034edccecb561b8404c9e7d380d7a5c0e58d273adf346bbd29426b66acd1662 gasUsed: 0\n",
      "Ignoring transaction 0xf3fee105a3192a9a04728daf00af8eb7692cb9feb5b395d61822d570835f5925 gasUsed: 0\n",
      "Ignoring transaction 0xb310e009227dfc5089307f87dd7a16196d9dc09ec87d2283c17a646e39d710b6 gasUsed: 0\n",
      "Ignoring transaction 0x805d6be23d0fc58bf5ec44db47249fc3ca96e3f3d9ca30327314470887a33c7e gasUsed: 0\n",
      "Ignoring transaction 0xb856a9ce2f37cb2758269e9a17e4f37cf3d2ffff66cdaa1524ac3ccedeec7d0f gasUsed: 0\n",
      "Ignoring transaction 0xbf44846b7989f09fe0dd15d7ea76eb873b858d56749be3374232246aeb017cc2 gasUsed: 0\n",
      "Ignoring transaction 0x4d0e9c0dadaf9bff0721ca7ab400aa37250f6fcdf6072b44c942ce4314277bc7 gasUsed: 0\n",
      "Ignoring transaction 0x21ec83e01b5fb51e07f65432a21877e7a37ccb38f459b6add40de0122df98370 gasUsed: 0\n",
      "Ignoring transaction 0x0e66656e573dd97d5d1ce679d2f3fc780654bd27bb272afe836670ba35d5bbbc gasUsed: 0\n",
      "Ignoring transaction 0xb3ab619ba54d039b5bb4cdfda02fdb906ad777f565ccf1179e95320d6fb91f39 gasUsed: 0\n",
      "Ignoring transaction 0xe0dfbf6393d1882f872bcc9288aef4e0029c5061c77e4980262a0fd4f0732b28 gasUsed: 0\n",
      "Ignoring transaction 0xbf586ad79b572aeef45019fcff815f6935b75174f485a7229b6952c4c8d234a3 gasUsed: 0\n",
      "Ignoring transaction 0x0a5548b3913ebc5f88b301ef4332cef92c34c6822735046a069b3487a6896c2a gasUsed: 0\n",
      "Ignoring transaction 0x40563006b26a1dd583c18f548406cc93541af76b5f9d6e6a8322ac26d84bcc91 gasUsed: 0\n",
      "Ignoring transaction 0x7f79521bad8e26bde33fd5a31486be0703d2556315c8683c4b5c2ed9bff26342 gasUsed: 0\n",
      "Ignoring transaction 0x4ea885443af788d000c5cfa5f2322ccc0e389133c3c2551cb665b93f5daeab68 gasUsed: 0\n",
      "Ignoring transaction 0x1bc4c546124609a3cb812e71001727d68e660d4404b89f15a7201473c48e26c3 gasUsed: 0\n",
      "Ignoring transaction 0x404f509c60bdbb8eeb3008c46f08ba4415021346d9cac662102444cbacf6b0d0 gasUsed: 0\n",
      "Ignoring transaction 0x5b422854f6ca76ff97f29227a47e3549ac7862c68e7ce980a43577eacd1e7618 gasUsed: 0\n",
      "Ignoring transaction 0xc6874cc27e7f3a2e0403aecad83c38c7696d5c752f2ac12201523545c2a17344 gasUsed: 0\n"
     ]
    },
    {
     "name": "stdout",
     "output_type": "stream",
     "text": [
      "Ignoring transaction 0x17574a28ca5420ae788f29084327fd3e6310e1426eed26f55cf371f5d281395c gasUsed: 0\n",
      "Ignoring transaction 0xc6b6df10eba4282261a06c4b13387f4f6b1bf2a00156f61b0ee2573f404aea7b gasUsed: 0\n",
      "Ignoring transaction 0x90cbbd02e21926ed4fd421540e6412a7d76608a899e10bb29b385b1d99ce0879 gasUsed: 0\n",
      "Ignoring transaction 0xbd196712d1a1618a49d05055f90425064e429d125d950b245b5eb30bd0e04704 gasUsed: 0\n",
      "Ignoring transaction 0x2915eeb0226f83191e5e1334f7c043480a1b758773a2eed03d9e49eaab3f0112 gasUsed: 0\n",
      "Ignoring transaction 0x79ceb90d04c6c776173f0fab289ee8e22ef923a79e5982f7a4d5bd2b00ef928a gasUsed: 0\n",
      "Ignoring transaction 0x08dace9a563833db6570cfd47cc8dfc6555f16e63b86ecc5cfc284cef987e854 gasUsed: 0\n",
      "Ignoring transaction 0x5e0a3020b91c2ac5762f3f0d39d0faf17bfe76dbd9c3c9b604ff7e6b2b311571 gasUsed: 0\n",
      "Ignoring transaction 0xa2735cdc87947cb1aff708fe744f7f5819e22d357849abd5d51cc84e76d90b46 gasUsed: 0\n",
      "Ignoring transaction 0xa98a0f94362e8f4051ee82638a610d6e9dd2bb1269416374299f0a4c4bd25750 gasUsed: 0\n",
      "Ignoring transaction 0x5ec07c992a7556bfd1184d3b9980551abbd7d87dcb4839f9424e4011b0956e46 gasUsed: 0\n",
      "Ignoring transaction 0x8829b257ccd0926c224e9a46a75036c6ebc666b3564156693270008b55127c8c gasUsed: 0\n",
      "Ignoring transaction 0x9addbd60799b008f21474cf4da8122e39fab3194cec13a220cc640200ea44d3b gasUsed: 0\n",
      "Ignoring transaction 0x2755918ae2e1070143d28d72ef89846ad6677a9bc25e093fbb833588f0703bc9 gasUsed: 0\n",
      "Ignoring transaction 0x3d338788a06101c6bc887d809bfb4f5d1d2c80e567f1fd34e118ae89997792c2 gasUsed: 0\n",
      "Ignoring transaction 0x9994f8767cc6026e6ef1d66d6fda04271b1c58ceef2e83fb965072ada3e1d8f3 gasUsed: 0\n",
      "Ignoring transaction 0xa1390d4c52210267934ab7cca744c5bba4c11514404e9648228e4e69c7391f2d gasUsed: 0\n",
      "Ignoring transaction 0xa6c0681b1de80ac397abc8d4a1d41ce0fa9be04060c50948fb0ea7a0dff13081 gasUsed: 0\n",
      "Ignoring transaction 0x9913b17a7d245eeac0681e1c2fec7acd444587fb3fe40709ade250a8a0a8a39f gasUsed: 0\n",
      "Ignoring transaction 0xf6b551fb1d0df28ac7e9e295f62437b473df8f9c55e7d83108411e4fed0450fc gasUsed: 0\n",
      "Ignoring transaction 0x9eb1277ca2aa7ec242bea87f3180636e96230649ebd227d57dba68f8f9dfb259 gasUsed: 0\n",
      "Ignoring transaction 0x8070dece89b31488394aaf51e88099ce45aa481f3b8245a5cb091077f3140922 gasUsed: 0\n",
      "Ignoring transaction 0xc3639cda05184b4858b24234d05f02790c79f8dda3ec0e2cbb862a02efd6d57a gasUsed: 0\n",
      "Ignoring transaction 0x43a0af51a2b9b257add8dbfc920fcf5ba8bdb3228a5cd1ef563bc140cd038d2c gasUsed: 0\n",
      "Ignoring transaction 0x09195522417d76690bdf6e14f26fba7f81737387ef0ae1ae2769f1edea2b01b2 gasUsed: 0\n",
      "Ignoring transaction 0x9cd77fbdada20085729bbef562ebc540249663c98d64a4a9faf9abffc1d0147b gasUsed: 0\n",
      "Ignoring transaction 0x1a50283cf51953098a6641af36dd607f3e1041a2953b0e70b51fe5533f6ac3f1 gasUsed: 0\n",
      "Ignoring transaction 0x3287c13e7d11dfe8fb814951f6276c492c57b0afe4c443905db041161d95340b gasUsed: 0\n",
      "Ignoring transaction 0xf54c417828ec41a322968916090f8d42109316ac19bb8157fc7f1e6dbf97ed9e gasUsed: 0\n",
      "Ignoring transaction 0x9b039d7c97d5cad308ea3327ee9e2cc712cc6779480ececd0fa694ef5f020a1b gasUsed: 0\n",
      "Ignoring transaction 0x438e3376a99e18a3323187d3ffc2519497cd0b86d7c0c9389b881a1f35442cc1 gasUsed: 0\n",
      "Ignoring transaction 0x2674870a9f652f908503c2136d5e59104c575eb21209ee8fcf9ba19add242996 gasUsed: 0\n",
      "Ignoring transaction 0x239bff804343cb93183d9ee32861fcc2951ca4e8503ffc83d7cfc8e6e5d8a3ac gasUsed: 0\n",
      "Ignoring transaction 0x0a585a13d41504b5db173de2042d8f403c8f3c45b0f6ec77bc51c68ae7b6d8c5 gasUsed: 0\n",
      "Ignoring transaction 0x41cb43562f627a83940d04a35bc14a63d8d1104003e8d0ba30f61586ad1fc0de gasUsed: 0\n",
      "Ignoring transaction 0xe353e0033dc784a84bb1271946a5d3cd0c3ea14432600663d1d028664dbbc400 gasUsed: 0\n",
      "Ignoring transaction 0xe17093b390902be7dc6df7c70dafd6237df1003fb5c8920d78968eda9ecf4100 gasUsed: 0\n",
      "Ignoring transaction 0x3c899df790dbd1a6c86073baf0f298310dfb246d5eb5a9fed09c7762818da493 gasUsed: 0\n",
      "Ignoring transaction 0xf7a8e990af4c933d5fb0bf567fdd44afc7fd530ae77895c4bb7fe16d68530738 gasUsed: 0\n",
      "Ignoring transaction 0x66ce10d3f06f51a4cb3321590ed7020dd1d9bbb4dbca33449a4d42021612525d gasUsed: 0\n",
      "Ignoring transaction 0x5ca6c3d1174acdd59b5ecccf753b0d1148a0752982ef683a1012ee7ebe4fa4b4 gasUsed: 0\n",
      "Ignoring transaction 0x453d4c1f3934d1c3b14d97a7ff52da0df26895737a15eea47cd90850a97756de gasUsed: 0\n",
      "Ignoring transaction 0xe7e70b7d004f1c85f5098a2a9dd7a7ea001ef83ebdc77b0534e81c44fdabc915 gasUsed: 0\n",
      "Ignoring transaction 0x72e0ccde0fb1a146966de8649468492f25db0f8e2f1e360e5eab429bbdae86fd gasUsed: 0\n",
      "Ignoring transaction 0x17273cd8a5dc7468bdf321f2f153b91de9e0fec3499ade29eff8408cc90fc470 gasUsed: 0\n",
      "Ignoring transaction 0x8092e30de606c3e0781365d58fe894c5a5243b2f554e63b4fbc2231ab02f9513 gasUsed: 0\n",
      "Ignoring transaction 0xa3983691fbcf016da746958039137af470ac97866a3f59717413eb00514c88bd gasUsed: 0\n",
      "Ignoring transaction 0x8eb98fbaa07f07f57f7167c1fbb7f4848ba136fcde891a8b3e0a59ecef7ad0d9 gasUsed: 0\n",
      "Ignoring transaction 0x66e936484bd6006d30e0a3e9d4519d233ee14bc7a4addac5d2264d27260d2207 gasUsed: 0\n",
      "Ignoring transaction 0xd7d6032e547814a5cae59282fd6824ac6020608e9287f9bcc3fd2e7cac5fb8e0 gasUsed: 0\n",
      "Ignoring transaction 0x3aeb0e47772b55e70f785a653a1c4dd2bbf6a15a4e519707b24bdea2fc3fd4c7 gasUsed: 0\n",
      "Ignoring transaction 0x2509680c7cc4fdf73ec27c760d15042ba323bdb4b69e3a5aa462e205f024c98f gasUsed: 0\n",
      "Ignoring transaction 0x33756f234592edf902dd6bdf068827cc44f79038efff2421bb82a092ef35e15e gasUsed: 0\n",
      "Ignoring transaction 0x49a3a8225ec9ff265cff4ece1a49e7be27975838282a74239cb25688e1143ad0 gasUsed: 0\n",
      "Ignoring transaction 0xee9e2f4fb0427383a1356a0b6e6985455ca3ff3dcba81b618ea5d2b89b30554f gasUsed: 0\n",
      "Ignoring transaction 0x26b111e9ebfc44dafcee5d8cd7a48897a2c4b3596ba9f5044d800ed00e6a3605 gasUsed: 0\n",
      "Ignoring transaction 0x675cfb0f1697c0805ce8824d9a98b247e19339ac694ca0fee9c941911ff59615 gasUsed: 0\n",
      "Ignoring transaction 0xfca8a6fd144832c94a0aaf784923d584383d65fecc915fbac5e2ab0f96050d29 gasUsed: 0\n",
      "Ignoring transaction 0xd71b67c46ce2e8338888c0a00eda41aa62d478e61bdb0825fc732d06be35f397 gasUsed: 0\n",
      "Ignoring transaction 0xd99c602abbb1466448d9feae5d219558087734b485610257d262c58c7881048a gasUsed: 0\n",
      "Ignoring transaction 0xcc71cfaecb6871f2f95dc3916a60ebcdf364131e2f3d5f9d2bfb35922ad58f7f gasUsed: 0\n",
      "Ignoring transaction 0xb7ceaf028009f7288f69316d75827822b231406137125854f6d587e9e0033db2 gasUsed: 0\n",
      "Ignoring transaction 0x4aaee6b08cad8dd8113df8f9dadb6568fab55b35a019bb03adab600b1ced8b94 gasUsed: 0\n",
      "Ignoring transaction 0x839a08235cb39c8054bf56390fc7ba1174879007bc8faf715f5cbecdd8906930 gasUsed: 0\n",
      "Ignoring transaction 0x5b7c2e0cdcdaf943aff29ec6819d8454c8b956b7b5f0e4576918042807a8f3fd gasUsed: 0\n",
      "Ignoring transaction 0xf7f74bf91064a8114aa2e07eb86ce9865362f17a5bab90feb40319c03a0c545b gasUsed: 0\n",
      "Ignoring transaction 0x84e000c30c558cfa8062e27ff2263d332702abcc8869c3801929724f7d2d7420 gasUsed: 0\n",
      "Ignoring transaction 0x426857e7bdae9aa927b48d4619c602c0dc37c7a93547b658a48ee7d9f287b834 gasUsed: 0\n",
      "Ignoring transaction 0xd011020c126cf06ae1de15fd42068c666009064fc5451a4b6dc6917ea4596a0d gasUsed: 0\n",
      "Ignoring transaction 0xcfab3ef64daf93772cf498bb86bb4cfc935906e28d3d4a461f7826a373770278 gasUsed: 0\n",
      "Ignoring transaction 0xc56fe07864389490878bbc5048f19c586b67088d9dbc25a451b868368c2dfffd gasUsed: 0\n",
      "Ignoring transaction 0xab44f7b69cd02f9a37f00bc882caf51984c15b695551fd1bf64a25565dce286b gasUsed: 0\n",
      "Ignoring transaction 0xab44f7b69cd02f9a37f00bc882caf51984c15b695551fd1bf64a25565dce286b gasUsed: 0\n",
      "Ignoring transaction 0xf529eaa6195f37eb26b246eb84b537c3d95e6b42c285c41dabff60df020fcbb9 gasUsed: 0\n",
      "Ignoring transaction 0x657c4f9d4945a80b3171fdea09bfe93c7f360a150453ce38020143fd1b20ee55 gasUsed: 0\n",
      "Ignoring transaction 0xfa2f06f03d022b176dfe6adfd768db2bf46c41a8926f50490ccc4bdc18fd03fb gasUsed: 0\n",
      "Ignoring transaction 0xf58cefd1ae666197fe6f65265492fb5f7fcdda0c25ba0cb0357b5bffd42f8021 gasUsed: 0\n",
      "Ignoring transaction 0x14c8ee119182631f41dd7e9b12b3c5da43445acfd6784568ab380fc38ba37e4b gasUsed: 0\n",
      "Ignoring transaction 0x3acd97b2470f26678b98f34b42642102f3eb410c7f9e3d3fd5911ba1c57e0885 gasUsed: 0\n",
      "Ignoring transaction 0x69fb148953c2e70bbd93095f38b9ce6fdbb034c9783a9b4a515381c615957461 gasUsed: 0\n",
      "Ignoring transaction 0x8d2ce76d64cb5011de428284b6a1459adeb4c95d49aa8ea298dba7d26847f231 gasUsed: 0\n",
      "Ignoring transaction 0xb4a11a138ebb667be7a86e402653e1360e9f27e3a67512ab0f9ae0639f556e44 gasUsed: 0\n",
      "Ignoring transaction 0x0094d533a0284cc9c0300113bc96fbc563a1faf4bf86d183f769edfcbeb03b24 gasUsed: 0\n",
      "Ignoring transaction 0x67854df9e388e07b586d574687d681a1294066c51c009511f4f7255642051682 gasUsed: 0\n",
      "Ignoring transaction 0x01bc0db295673ab2483acc0b7ce75088f3628a8f0eea6915a70888a358853e38 gasUsed: 0\n",
      "Ignoring transaction 0x06fef71d04d91f322057ebcdb40ea8ae09c010aacc045ecc90ab14a8af18b6bf gasUsed: 0\n"
     ]
    },
    {
     "name": "stdout",
     "output_type": "stream",
     "text": [
      "Ignoring transaction 0x2d37fa110e3ffc692064e227fc6f76f9e6964f8d43e95479df6e857cd96781ac gasUsed: 0\n",
      "Ignoring transaction 0x037869bd85366be87ef4271d65dda70a1eddedbec3bca0b0962ca132fecee3e1 gasUsed: 0\n",
      "Ignoring transaction 0x3f54279c97bc66963c0c52ff2220e894dcbadcd7ed24e7116b83529d0bd2b3db gasUsed: 0\n",
      "Ignoring transaction 0x9548fa8ae08acec8080018d0abf4bb0b265e4cf4fa5369da3c2e57497af86820 gasUsed: 0\n",
      "Ignoring transaction 0xf5892fe8436b673631f698dec0571bfbc5201df259f9262d05f7f409ffa6a540 gasUsed: 0\n",
      "Ignoring transaction 0x38aefd0b159a5cabc2818546561e2ae143da2f5d7f823e08071905d06da5f167 gasUsed: 0\n",
      "Ignoring transaction 0x3141923914868ba39f5d5904de855859f0aa41e3a7f2376bf036c0d0531ac568 gasUsed: 0\n",
      "Ignoring transaction 0x7efaeb5467f5190cf5eb1a15ea3f119dd960c7ab5e0f617f928ad79ea0edc9a6 gasUsed: 0\n",
      "Ignoring transaction 0x9dec4af7482a96442604b09c4fe3ad7c8b0442b7f625adce6a6392e123de639a gasUsed: 0\n",
      "Ignoring transaction 0xb9bde3eeee8ffba2f6a9e89e04f01369f36af34148f322e22288958f05f92161 gasUsed: 0\n",
      "Ignoring transaction 0xb9bde3eeee8ffba2f6a9e89e04f01369f36af34148f322e22288958f05f92161 gasUsed: 0\n",
      "Ignoring transaction 0xc05833096136688bc695d3d18ac04e0e8a4d494d554cd51ec1a2d9a64822f309 gasUsed: 0\n",
      "Ignoring transaction 0x257c33910faedf701955a5cd641d763142014a018a1bad78c409c2cacc7a2128 gasUsed: 0\n",
      "Ignoring transaction 0xe745359cf8b3154b8365901ee159bf9377170ec63767f1883f33fc16dcd18ad9 gasUsed: 0\n",
      "Ignoring transaction 0x4123738ce824e261f865ee556d602a4d4b88536ccb59176fade0aff5d7801401 gasUsed: 0\n",
      "Ignoring transaction 0xf98a0841bf751cc9e0d52aa28e4ed5eba4ea7e6abf97e18e21a2e26ec2a0482e gasUsed: 0\n",
      "Ignoring transaction 0x0509c91c44d14958163ffd9062f42806a320512d0b97586c2df3d952d6415118 gasUsed: 0\n",
      "Ignoring transaction 0xda4dd78fb84cd6325c733eb152ac1fe6d66c2aed2371f192e1854891cedd6af0 gasUsed: 0\n",
      "Ignoring transaction 0x2d13ec40490f7520f65f927ac977e780ed564f140fa53123384307be1cde9154 gasUsed: 0\n",
      "Ignoring transaction 0x6760461ef203fec3dd9f9467916bb34b507a4e09debe999b8495852443a7d63f gasUsed: 0\n",
      "Ignoring transaction 0xfb17efa51b77f36d51dde53938fc91ed585a722ea7ad94fc93fc4f93771f8e01 gasUsed: 0\n",
      "Ignoring transaction 0x59cb2ea967e9be146f86ece2807ee856582bd2d82aa93b29f89cf5a767838282 gasUsed: 0\n",
      "Ignoring transaction 0xab43b3720284f4053b323a40a9afb189fea20b4d80807cccdba6d8d6aec21bfc gasUsed: 0\n",
      "Ignoring transaction 0x0a17f667c89f751eaf75da2d2077f8b8cbeedf443c19fb871644980fd82538a3 gasUsed: 0\n",
      "Ignoring transaction 0xc2f684a9a81d5f8524cfe74a9ba172550423bc3cfb0f8346a521060a6f052802 gasUsed: 0\n",
      "Ignoring transaction 0x543436c8721f6e0a63f968862e0e8e9b1ad4540b77ba508649a8a02c5ad71cae gasUsed: 0\n",
      "Ignoring transaction 0xa313e572f5b56dbcb96d6a5a9ae6333cd88e1dc94eb571abde862ade71f5d600 gasUsed: 0\n",
      "Ignoring transaction 0x7a5bd8f863a70bb2f13044924d2cce67b0a0f4b838c5816d18c58d3033ccf73d gasUsed: 0\n",
      "Ignoring transaction 0x6053350e2b5e36b4560a572e71cc94d0547314d4618fe11740d63f39cd2d1a93 gasUsed: 0\n",
      "Ignoring transaction 0x7fdc48b4c7aa45cf542d2ad92035825a490f267c8d6ffed8e00b53ee7a2be2f8 gasUsed: 0\n",
      "Ignoring transaction 0x7fdc48b4c7aa45cf542d2ad92035825a490f267c8d6ffed8e00b53ee7a2be2f8 gasUsed: 0\n",
      "Ignoring transaction 0xfa181227a4930ebe584afcdbee931fc4cb29f085c055f1cbb41326f58bcc4f66 gasUsed: 0\n",
      "Ignoring transaction 0xc830c8470132af89bf86c9529953da204f8101c92d83b5ea638bf5aa732b74b8 gasUsed: 0\n",
      "Ignoring transaction 0xf8144a90e5f72ed4efca37278085897ab18631dc599e093c18e73603c3b7c67f gasUsed: 0\n",
      "Ignoring transaction 0x750c8f80da4fc2aae2f63b679b756d0a79c907cf1322d139d7e8d9f794c2741b gasUsed: 0\n",
      "Ignoring transaction 0x29b33f1d2194885e7a7f9c0cd93544b707d5935dde6fe5ed83e2db9a8857646c gasUsed: 0\n",
      "Ignoring transaction 0x2eda7b7dcc75524e91050f6ed3d3708a8e74f8da2e7f08a7e9a6208ddadc1864 gasUsed: 0\n",
      "Ignoring transaction 0x69852c3b6e08cb953345cba2018cb3684ac89f83bd4c93e4f123a3372b11b511 gasUsed: 0\n",
      "Ignoring transaction 0xa308c34feb89d22286f59bc99b3a1240facb5c53fb717bbb1689d4dbea7786ed gasUsed: 0\n",
      "Ignoring transaction 0xd54ee3434ab845cd4bd38e4e580570b699ec95a6ccc752e9acc04a3ff5376b1f gasUsed: 0\n",
      "Ignoring transaction 0x068b4a9b59ffa790f1721f70dd1abceb3c7fb444b57608bfb75c9b8cec90a6bf gasUsed: 0\n",
      "Ignoring transaction 0xa5fc141f96de636c9b4d6a6f8d7bbd093ebe8f3457bf4ea6de469e10e994953d gasUsed: 0\n",
      "Ignoring transaction 0x1ea65b7483c3cfc85554a4096f9694e0de41292f794a43a7b5f80afa0bcfe8cb gasUsed: 0\n",
      "Ignoring transaction 0xf7616aa2f382e0c7b95c4983bf1baf3ebc2a7b9cc0d930ed0b119ce053465a5a gasUsed: 0\n",
      "Ignoring transaction 0x0517504fd98ad972dffaa449d679b495f892b3461ff2a895cb861d260b12f57f gasUsed: 0\n",
      "Ignoring transaction 0xe0dc8acc38c7865327aac868a645b1831c0ffce2df20d5e60470145d1f631877 gasUsed: 0\n",
      "Ignoring transaction 0x9f8e048754e29bdcf1bb7a8201ee52406ed48fa75b5934f50ee8456f8073157a gasUsed: 0\n",
      "Ignoring transaction 0x502035d77b65db57cf95ebc94b0bfa09f632b441e63146e14a775ffb42f4f014 gasUsed: 0\n",
      "Ignoring transaction 0xebf978650eae848ac67ee27fccfb5750a909ff486fa48c2b08a70111c78c759c gasUsed: 0\n",
      "Ignoring transaction 0xa45b0e747206822f8847386c9ad5439be7aa13955b89fbfb51062d7f554de711 gasUsed: 0\n",
      "Ignoring transaction 0x1705cf5e1dfbeeb8de1cac978e07c87bc356756e5678f1029bc56ce221ec0905 gasUsed: 0\n",
      "Ignoring transaction 0x615bf531807050b225514fe6d29de1041acd9d46d492f58fa4c44d0b9ce3cec3 gasUsed: 0\n",
      "Ignoring transaction 0xf1220ff967eeb8a42933146082dc2845ffbcc5f88c9ee2c1b549a51becbfafa7 gasUsed: 0\n",
      "Ignoring transaction 0xaa5b8bb3d26e1fbcb17b1375a687669f8d3ea0fee712e3d3edd079be0f636c62 gasUsed: 0\n",
      "Ignoring transaction 0x2eda232790379cf67318f397410bf4ca0ee88c9f47e307af6e9ed37557e4e962 gasUsed: 0\n",
      "Ignoring transaction 0x04c982d43148151a81d6ec4263ae777d1aa7bf97f62ac94ad8c151e4df8a959a gasUsed: 0\n",
      "Ignoring transaction 0xb1ee912a14e715d37845d9a9db7dc4adbb50f1423644e300ef4c8bb4aa0307dc gasUsed: 0\n",
      "Ignoring transaction 0x34bc252168d7eb622e99837977e0805424cdd7436100a11f0649121d7161bf7e gasUsed: 0\n",
      "Ignoring transaction 0x9a652905997d5e9fb023652d6fe4690c0c695d39680b6bdb7d17cd6c66e6f63d gasUsed: 0\n",
      "Ignoring transaction 0x84253a678d7da377eb226ab15e3442482acff8ab6e7faf09c51032768bef6680 gasUsed: 0\n",
      "Ignoring transaction 0xbabbfbf2fd514618acb26f1eafd1e62af337605557722cf535bfee79a99c5b50 gasUsed: 0\n",
      "Ignoring transaction 0xbabbfbf2fd514618acb26f1eafd1e62af337605557722cf535bfee79a99c5b50 gasUsed: 0\n",
      "Ignoring transaction 0x2a84623a53147006c9657a4a56db9b8a0e1b17149db78cbbe33ce9b2139745b5 gasUsed: 0\n",
      "Ignoring transaction 0x0e380d44b70d319b898642a3c05e158db2606844cf4889c27a32e258c1f53457 gasUsed: 0\n",
      "Ignoring transaction 0xc380b9065fe6bbb101f407f80f113cae76a01940ac01f69ad7e51e0a72bdcf22 gasUsed: 0\n",
      "Ignoring transaction 0x215c66660d7bff28492482a9a19c4747d9b659087ff094ad2c6de69636811688 gasUsed: 0\n",
      "Ignoring transaction 0x0cc5f875bf554eed2daa6761240f24ce1740235b41d62c8984805e5023442676 gasUsed: 0\n",
      "Ignoring transaction 0x6bfb9eb501805b3cb00c1ab22cd36629f3d96eacc6909bec63dcaed2e8398e6c gasUsed: 0\n",
      "Ignoring transaction 0x6978ab341b0b32ed58801831f69602b9f7b29d8ec0ed9b929c80511c91bccd69 gasUsed: 0\n",
      "Ignoring transaction 0xfe562a8ea1a08897da276674a4c0508ac50fdaac89b3a9fa65ca1b1b8968eebf gasUsed: 0\n",
      "Ignoring transaction 0x5a31dcaab1ade17053e19d88969fd3c28d6ae8e933ec2f94bf466f33e13a9090 gasUsed: 0\n",
      "Ignoring transaction 0x3e0f12b093acaf0ce8f4c7299d1fa6ae2ad45d6dc49201cb5c911b17a13784f2 gasUsed: 0\n",
      "Ignoring transaction 0x051f3a8e4bd144ce72d5cd706e70666b4875d3ff01f9cf1bfbf9b54cfcd0f894 gasUsed: 0\n",
      "Ignoring transaction 0xa89f37aa37e5714276d8a739ced6622e6e56d7429e87d17523e8de0ab598efae gasUsed: 0\n",
      "Ignoring transaction 0x33bacf07b3795fc2aeb9bc37e6f06b9505eab4b5cf387a6bf0704c5813cee72b gasUsed: 0\n",
      "Ignoring transaction 0x0babaf840c4847c0693446f13f6d66905fc98411eaf859712a5f1eb42318e8a3 gasUsed: 0\n",
      "Ignoring transaction 0x547fd05f20cd2e86fa5f917dbf110882aa2cf8f0dbbde876719d7cd84f196f65 gasUsed: 0\n",
      "Ignoring transaction 0x547fd05f20cd2e86fa5f917dbf110882aa2cf8f0dbbde876719d7cd84f196f65 gasUsed: 0\n",
      "Ignoring transaction 0x3d26bf9e04ebcbd2a1effa7f7959874c9a5e417abde67e2127d711b31c083b66 gasUsed: 0\n",
      "Ignoring transaction 0x5338024c270bb9ad7c08d3cc0db3e87759bd03b6bf150e5e322cbe440ce3b8a9 gasUsed: 0\n",
      "Ignoring transaction 0x916034f60fa18e39d7ccdac78179e3ffee5d439d9161058d16fdc154876d3c8c gasUsed: 0\n",
      "Ignoring transaction 0x8f5ac5d1494304cea8c77b23916640e213f3bc83943ee469d4e5936ff0607289 gasUsed: 0\n",
      "Ignoring transaction 0x43b33469f8f7f970429f0f178dbe227effc913b828c2d66895cea44840c5f29c gasUsed: 0\n",
      "Ignoring transaction 0xa7fdd04ee74e6b42ef92d76f5d74842762559828aebc6d560f766e0b40ce8bad gasUsed: 0\n",
      "Ignoring transaction 0xbd739f428f3feb47d40d83b87ed806a88a7ed3cb80814a3a0c1cb694fa87453e gasUsed: 0\n",
      "Ignoring transaction 0xfe400d15378c894b2e8f3fbe50d0bc2d2974953b0c3bc78d934ecb9a911ab469 gasUsed: 0\n",
      "Ignoring transaction 0x956f09f6951a842b77ad9900f40e8530dc8b3042abb6fcae5678fc0a26f3196b gasUsed: 0\n"
     ]
    },
    {
     "name": "stdout",
     "output_type": "stream",
     "text": [
      "Ignoring transaction 0xf9a3460c51a6749ae55bb824f84abe8f375d1210d1727704b713317fde66b573 gasUsed: 0\n",
      "Ignoring transaction 0x7007bd32ab6a8cea6bec774fbbee43fb8af8d9fb604b58fa15b6a5948a58b6c5 gasUsed: 0\n",
      "Ignoring transaction 0x8e2b29c2008134b099cfd9ed36fb1ab905b89aa692bd63e88e37493da48f210f gasUsed: 0\n",
      "Ignoring transaction 0x841f7730437f13da5a281aa22cc9f6d6ecf5b8e701ed5020e81701946c6e7e60 gasUsed: 0\n",
      "Ignoring transaction 0x77a51559057040d25ba2c2afe83d7fc596c853cbcc6b05653d0787246c4e90ab gasUsed: 0\n",
      "Ignoring transaction 0x082cf7fab76a856a974a5bf6383b1c2482e363a9fec59ee98ac1d216b84f6498 gasUsed: 0\n",
      "Ignoring transaction 0xa43c113c9785266e0c46997bd30751d5f9cba5e981c3761dac7557eaa5ac7dd9 gasUsed: 0\n",
      "Ignoring transaction 0xae84d7bb7bb2845389f1d45c31d43548415cfb4b6e4a769728a02487ba93b5f8 gasUsed: 0\n",
      "Ignoring transaction 0xa18f5f8fdc87ca7d023f8ab808de24a34e060394b23a59ca4166d16b14aeea56 gasUsed: 0\n",
      "Ignoring transaction 0x5c8ede950e759d202e1f8b87b0c5646a5d096b43ce619fcec34f911076f3a323 gasUsed: 0\n",
      "Ignoring transaction 0xe7e1ee4ed9e957dd8d18ff4cd02e3a32fcb54eb1740bfb23924f41859ef17236 gasUsed: 0\n",
      "Ignoring transaction 0x644d56f85616bfd0efaa7440e06592502dbbeeb5171d1f760395a04e53f8e4b1 gasUsed: 0\n",
      "Ignoring transaction 0xb9b894bedb5cdc47c2ad7b6161132f94d201c7fe2a51097ac38719873fa4c377 gasUsed: 0\n",
      "Ignoring transaction 0x15c9500bdec712276c485f71ab4a86f9741840be45313181a7b02ce84d15f854 gasUsed: 0\n",
      "Ignoring transaction 0x1999200bb0024172b42c2725f5555f820fa2f8dfef19ec4415f4b838d2e5c133 gasUsed: 0\n",
      "Ignoring transaction 0x194b6a821c3e04a93482cd7b83811f99c8a3170628dd68b7596397a75e05716d gasUsed: 0\n",
      "Ignoring transaction 0x49fb60724532b13d43289ed620d8220e426fe92d9e5ea19e2fd9118781bf8cc6 gasUsed: 0\n",
      "Ignoring transaction 0x6a2c092b510f565029e81ebac8c06d1e4e78902fb73767481dea46059cd03d56 gasUsed: 0\n",
      "Ignoring transaction 0xad84ec6185f5cf13381bd6a65e24941a4ede161dc105d7a33d8a5920fd71da44 gasUsed: 0\n",
      "Ignoring transaction 0x053e9e0fefd170f3f402d9474af41cc30d220e5d89c22d247b0783e4f2b10fa2 gasUsed: 0\n",
      "Ignoring transaction 0xe0bd23eb07da8b07f6713ab400fadecbcb32875d9d9f3527ef6fd9fec37e9a71 gasUsed: 0\n",
      "Ignoring transaction 0x27089b0d2b389fb97585be89479d684412ea070c6b06ebedc0c404fd1a133c6e gasUsed: 0\n",
      "Ignoring transaction 0x840cd557dcafadb4b3a72a047bb272006598b7effb444103b1306b39eb020c30 gasUsed: 0\n",
      "Ignoring transaction 0xe31895f6d26a3a7211848407ffb10a285c6a017146c77a389e5b8d656f841490 gasUsed: 0\n",
      "Ignoring transaction 0x8690028d6f7bfffdc77519ed11634ef53c92da44348d9b6a8fb402e735a08add gasUsed: 0\n",
      "Ignoring transaction 0xf9a29b31b92bae188dd3b4e526506d4094311a5b03ac7685497adf0b15a13289 gasUsed: 0\n",
      "Ignoring transaction 0xbf52d5b98a74076431c1857dcf111ff788975bb8726b65d30fffbaeb91096c2d gasUsed: 0\n",
      "Ignoring transaction 0x27741fc4ec3b62330a56e37e9a8c7a2be5af68d661827b31eab80ad5f219ac6f gasUsed: 0\n",
      "Ignoring transaction 0x3b937ec01ba2810dfaf1cd05a08264d665c11b56b7a50f53c45988f9e2031185 gasUsed: 0\n",
      "Ignoring transaction 0x45bbe059af21ce9c1783303e0dacfcbb9c73910a4de67f6c49cb48dda200a8cd gasUsed: 0\n",
      "Ignoring transaction 0xe0142c92179aa8f30d2260442e52b8dc47b1179a218c5bd2edd1d4472b8ee19f gasUsed: 0\n",
      "Ignoring transaction 0x4034edccecb561b8404c9e7d380d7a5c0e58d273adf346bbd29426b66acd1662 gasUsed: 0\n",
      "Ignoring transaction 0xa1390d4c52210267934ab7cca744c5bba4c11514404e9648228e4e69c7391f2d gasUsed: 0\n",
      "Ignoring transaction 0xe17093b390902be7dc6df7c70dafd6237df1003fb5c8920d78968eda9ecf4100 gasUsed: 0\n",
      "Ignoring transaction 0x8092e30de606c3e0781365d58fe894c5a5243b2f554e63b4fbc2231ab02f9513 gasUsed: 0\n",
      "Ignoring transaction 0xb4a11a138ebb667be7a86e402653e1360e9f27e3a67512ab0f9ae0639f556e44 gasUsed: 0\n",
      "Ignoring transaction 0x0094d533a0284cc9c0300113bc96fbc563a1faf4bf86d183f769edfcbeb03b24 gasUsed: 0\n",
      "Ignoring transaction 0x01bc0db295673ab2483acc0b7ce75088f3628a8f0eea6915a70888a358853e38 gasUsed: 0\n",
      "Ignoring transaction 0x0509c91c44d14958163ffd9062f42806a320512d0b97586c2df3d952d6415118 gasUsed: 0\n",
      "Ignoring transaction 0xfb17efa51b77f36d51dde53938fc91ed585a722ea7ad94fc93fc4f93771f8e01 gasUsed: 0\n",
      "Ignoring transaction 0xc2f684a9a81d5f8524cfe74a9ba172550423bc3cfb0f8346a521060a6f052802 gasUsed: 0\n",
      "Ignoring transaction 0xf1220ff967eeb8a42933146082dc2845ffbcc5f88c9ee2c1b549a51becbfafa7 gasUsed: 0\n",
      "Ignoring transaction 0x2eda232790379cf67318f397410bf4ca0ee88c9f47e307af6e9ed37557e4e962 gasUsed: 0\n",
      "Ignoring transaction 0x0e380d44b70d319b898642a3c05e158db2606844cf4889c27a32e258c1f53457 gasUsed: 0\n",
      "Ignoring transaction 0x215c66660d7bff28492482a9a19c4747d9b659087ff094ad2c6de69636811688 gasUsed: 0\n",
      "Ignoring transaction 0x0cc5f875bf554eed2daa6761240f24ce1740235b41d62c8984805e5023442676 gasUsed: 0\n",
      "Ignoring transaction 0x840cd557dcafadb4b3a72a047bb272006598b7effb444103b1306b39eb020c30 gasUsed: 0\n",
      "Ignoring transaction 0x8c6fbfbd3533248edb73d390c05cd5d0c91af297b58fc153d02f713215b0dc92 gasUsed: 0\n",
      "Ignoring transaction 0x7958bd86a27b4b85604b511fdfa2cfbf08f4874ed5b34c4b6fdee4b077018c9e gasUsed: 0\n",
      "Ignoring transaction 0x4bcd2a3df211c4d2f4cdfc4a68029e45ab7b9f58a9d0f697acc34105a039f004 gasUsed: 0\n",
      "Ignoring transaction 0xf2b20dea8fd843a66e1dca5e6eca86bf1e4151ecf988c79c9bd533756f7410f6 gasUsed: 0\n",
      "Ignoring transaction 0x8f3e119e8e7bade0b77db4071af003a4d9c12e768497d740cf97b873e3ea6409 gasUsed: 0\n",
      "Ignoring transaction 0x5a31dcaab1ade17053e19d88969fd3c28d6ae8e933ec2f94bf466f33e13a9090 gasUsed: 0\n",
      "Ignoring transaction 0xfb3dab6af6171a7cc4c5163f44404067c289285f66be25d8d564ff980ae5f9af gasUsed: 0\n",
      "Ignoring transaction 0x9258937b56d5a11783b4bf6965ec0d73c1bbe920fbb3cf7e5a08dbe5817c9f23 gasUsed: 0\n",
      "Ignoring transaction 0x9258937b56d5a11783b4bf6965ec0d73c1bbe920fbb3cf7e5a08dbe5817c9f23 gasUsed: 0\n",
      "Ignoring transaction 0x530b41efb2d966767a5852d90600d95719fff7e9209c385442ef22db69ef527a gasUsed: 0\n",
      "Ignoring transaction 0xda5e23b62cceb19605d8872999ccb5aaac6667dd3c6fe067f9df86b533b075bd gasUsed: 0\n",
      "Ignoring transaction 0xbfba1a4fcf7d4819368c44b96d55cc650b72ab5f7cc45b83d47913d290b59733 gasUsed: 0\n",
      "Ignoring transaction 0x612fcce6067692b6f50a6942ed7de51356691f3725c7cb0fd354bbc07cbe4711 gasUsed: 0\n",
      "Ignoring transaction 0x4ee5607f600af749f30028641210c3d20d37e1366552e202dcf016a17cba411e gasUsed: 0\n",
      "Ignoring transaction 0x3d3cfbdcf213e205bd678e1dee1e5e71c016b13ce06f77f6d62216e82f8793a4 gasUsed: 0\n",
      "Ignoring transaction 0x930ad3a433fbccda661c8cac43a9134685ffe1a0aeba6218dd67236ba259a913 gasUsed: 0\n"
     ]
    }
   ],
   "source": [
    "results = {}\n",
    "for input_file in ['histogram.csv', 'uniswap.csv', '1inch.csv', 'usdc.csv', 'usdt.csv', 'aave.csv', 'mm_swap.csv']:\n",
    "    columns_name, columns_value, data_result = analyze_data(DATADIR + input_file)\n",
    "    data_result_csv = convert_to_csv(data_result)\n",
    "    write_csv(RESULTDIR + input_file, data_result_csv)\n",
    "    new_columns = columns_name[0:3] + [\"Gas Used RP\", \"Difference\", \"%\"] + columns_name[3:]\n",
    "    results[input_file.split('.')[0]] = data_result"
   ]
  },
  {
   "cell_type": "code",
   "execution_count": 11,
   "id": "79547f08",
   "metadata": {},
   "outputs": [],
   "source": [
    "filter_columns = ['Block #', 'Transactions', 'Gas Used', 'Gas Used RP', 'Difference', '%']"
   ]
  },
  {
   "cell_type": "markdown",
   "id": "9e99b66f",
   "metadata": {},
   "source": [
    "# ALL Traced Contracts"
   ]
  },
  {
   "cell_type": "code",
   "execution_count": 12,
   "id": "e571d609",
   "metadata": {},
   "outputs": [
    {
     "name": "stdout",
     "output_type": "stream",
     "text": [
      "Total traced transactions: 431515\n"
     ]
    }
   ],
   "source": [
    "contract = 'histogram' # ALL\n",
    "print('Total traced transactions:', len(results[contract]))"
   ]
  },
  {
   "cell_type": "code",
   "execution_count": 13,
   "id": "3f6e5d19",
   "metadata": {},
   "outputs": [
    {
     "data": {
      "text/html": [
       "<div>\n",
       "<style scoped>\n",
       "    .dataframe tbody tr th:only-of-type {\n",
       "        vertical-align: middle;\n",
       "    }\n",
       "\n",
       "    .dataframe tbody tr th {\n",
       "        vertical-align: top;\n",
       "    }\n",
       "\n",
       "    .dataframe thead th {\n",
       "        text-align: right;\n",
       "    }\n",
       "</style>\n",
       "<table border=\"1\" class=\"dataframe\">\n",
       "  <thead>\n",
       "    <tr style=\"text-align: right;\">\n",
       "      <th></th>\n",
       "      <th>Block #</th>\n",
       "      <th>Transactions</th>\n",
       "      <th>Gas Used</th>\n",
       "      <th>Gas Used RP</th>\n",
       "      <th>Difference</th>\n",
       "      <th>%</th>\n",
       "    </tr>\n",
       "  </thead>\n",
       "  <tbody>\n",
       "    <tr>\n",
       "      <th>0</th>\n",
       "      <td>0xbbcd41</td>\n",
       "      <td>0xbeabf6680e1f868c6fa0979ab25a7524b19bdca7d97c...</td>\n",
       "      <td>13074</td>\n",
       "      <td>12595</td>\n",
       "      <td>479</td>\n",
       "      <td>3.66</td>\n",
       "    </tr>\n",
       "    <tr>\n",
       "      <th>1</th>\n",
       "      <td>0xbbcd41</td>\n",
       "      <td>0x5e857390c4f6ab1d157cc40a5d43bc3bcbc863a09e4f...</td>\n",
       "      <td>39267</td>\n",
       "      <td>38728</td>\n",
       "      <td>539</td>\n",
       "      <td>1.37</td>\n",
       "    </tr>\n",
       "    <tr>\n",
       "      <th>2</th>\n",
       "      <td>0xbbcd41</td>\n",
       "      <td>0x7cc8e7a4666fc6b269a6a4a4d56becbbd63b405247a0...</td>\n",
       "      <td>32706</td>\n",
       "      <td>32209</td>\n",
       "      <td>497</td>\n",
       "      <td>1.52</td>\n",
       "    </tr>\n",
       "    <tr>\n",
       "      <th>3</th>\n",
       "      <td>0xbbcd41</td>\n",
       "      <td>0x6af3205f62e69f7dc6993363bab674e87a1e18a694f0...</td>\n",
       "      <td>12925</td>\n",
       "      <td>12496</td>\n",
       "      <td>429</td>\n",
       "      <td>3.32</td>\n",
       "    </tr>\n",
       "    <tr>\n",
       "      <th>4</th>\n",
       "      <td>0xbbcd41</td>\n",
       "      <td>0x45a88b3daa39922cda59be85e91ef2223b603bb64de5...</td>\n",
       "      <td>44679</td>\n",
       "      <td>43923</td>\n",
       "      <td>756</td>\n",
       "      <td>1.69</td>\n",
       "    </tr>\n",
       "  </tbody>\n",
       "</table>\n",
       "</div>"
      ],
      "text/plain": [
       "    Block #                                       Transactions  Gas Used  \\\n",
       "0  0xbbcd41  0xbeabf6680e1f868c6fa0979ab25a7524b19bdca7d97c...     13074   \n",
       "1  0xbbcd41  0x5e857390c4f6ab1d157cc40a5d43bc3bcbc863a09e4f...     39267   \n",
       "2  0xbbcd41  0x7cc8e7a4666fc6b269a6a4a4d56becbbd63b405247a0...     32706   \n",
       "3  0xbbcd41  0x6af3205f62e69f7dc6993363bab674e87a1e18a694f0...     12925   \n",
       "4  0xbbcd41  0x45a88b3daa39922cda59be85e91ef2223b603bb64de5...     44679   \n",
       "\n",
       "   Gas Used RP  Difference     %  \n",
       "0        12595         479  3.66  \n",
       "1        38728         539  1.37  \n",
       "2        32209         497  1.52  \n",
       "3        12496         429  3.32  \n",
       "4        43923         756  1.69  "
      ]
     },
     "execution_count": 13,
     "metadata": {},
     "output_type": "execute_result"
    }
   ],
   "source": [
    "sample = get_sample(results[contract], new_columns, filter_columns)\n",
    "sample.head()"
   ]
  },
  {
   "cell_type": "markdown",
   "id": "4b944080",
   "metadata": {},
   "source": [
    "## Average gasUsed, gasUsedRP, Difference"
   ]
  },
  {
   "cell_type": "code",
   "execution_count": 14,
   "id": "48b55495",
   "metadata": {},
   "outputs": [
    {
     "data": {
      "text/plain": [
       "Gas Used       78500.083344\n",
       "Gas Used RP    74686.642063\n",
       "Difference      3813.441280\n",
       "%                  4.700983\n",
       "dtype: float64"
      ]
     },
     "execution_count": 14,
     "metadata": {},
     "output_type": "execute_result"
    }
   ],
   "source": [
    "sample.iloc[:,2:].apply(np.mean)"
   ]
  },
  {
   "cell_type": "markdown",
   "id": "34ee574b",
   "metadata": {},
   "source": [
    "## Minimum gasUsed, gasUsedRP, Difference"
   ]
  },
  {
   "cell_type": "code",
   "execution_count": 15,
   "id": "244404c5",
   "metadata": {},
   "outputs": [
    {
     "data": {
      "text/plain": [
       "Gas Used       6.00\n",
       "Gas Used RP    2.00\n",
       "Difference     4.00\n",
       "%              0.01\n",
       "dtype: float64"
      ]
     },
     "execution_count": 15,
     "metadata": {},
     "output_type": "execute_result"
    }
   ],
   "source": [
    "sample.iloc[:,2:].apply(np.min)"
   ]
  },
  {
   "cell_type": "markdown",
   "id": "1355e34e",
   "metadata": {},
   "source": [
    "## Maximum gasUsed, gasUsedRP, Difference"
   ]
  },
  {
   "cell_type": "code",
   "execution_count": 16,
   "id": "7a4fcc64",
   "metadata": {},
   "outputs": [
    {
     "data": {
      "text/plain": [
       "Gas Used       14874491.00\n",
       "Gas Used RP    14864787.00\n",
       "Difference       530095.00\n",
       "%                    66.67\n",
       "dtype: float64"
      ]
     },
     "execution_count": 16,
     "metadata": {},
     "output_type": "execute_result"
    }
   ],
   "source": [
    "sample.iloc[:,2:].apply(np.max)"
   ]
  },
  {
   "cell_type": "markdown",
   "id": "7b64cbb8",
   "metadata": {},
   "source": [
    "# AAVE"
   ]
  },
  {
   "cell_type": "code",
   "execution_count": 17,
   "id": "3ac0e760",
   "metadata": {},
   "outputs": [
    {
     "name": "stdout",
     "output_type": "stream",
     "text": [
      "Total traced transactions: 2004\n"
     ]
    }
   ],
   "source": [
    "contract = 'aave'\n",
    "print('Total traced transactions:', len(results[contract]))"
   ]
  },
  {
   "cell_type": "code",
   "execution_count": 18,
   "id": "d5f0be7a",
   "metadata": {},
   "outputs": [
    {
     "data": {
      "text/html": [
       "<div>\n",
       "<style scoped>\n",
       "    .dataframe tbody tr th:only-of-type {\n",
       "        vertical-align: middle;\n",
       "    }\n",
       "\n",
       "    .dataframe tbody tr th {\n",
       "        vertical-align: top;\n",
       "    }\n",
       "\n",
       "    .dataframe thead th {\n",
       "        text-align: right;\n",
       "    }\n",
       "</style>\n",
       "<table border=\"1\" class=\"dataframe\">\n",
       "  <thead>\n",
       "    <tr style=\"text-align: right;\">\n",
       "      <th></th>\n",
       "      <th>Block #</th>\n",
       "      <th>Transactions</th>\n",
       "      <th>Gas Used</th>\n",
       "      <th>Gas Used RP</th>\n",
       "      <th>Difference</th>\n",
       "      <th>%</th>\n",
       "    </tr>\n",
       "  </thead>\n",
       "  <tbody>\n",
       "    <tr>\n",
       "      <th>0</th>\n",
       "      <td>0xbbf35f</td>\n",
       "      <td>0x4000f94fabd0ee7de180299e0cd39c12d1f12c2cf1da...</td>\n",
       "      <td>244001</td>\n",
       "      <td>227501</td>\n",
       "      <td>16500</td>\n",
       "      <td>6.76</td>\n",
       "    </tr>\n",
       "    <tr>\n",
       "      <th>1</th>\n",
       "      <td>0xbbf362</td>\n",
       "      <td>0xa75da7fb949426815a605536578e98c2d89799077b50...</td>\n",
       "      <td>341844</td>\n",
       "      <td>315066</td>\n",
       "      <td>26778</td>\n",
       "      <td>7.83</td>\n",
       "    </tr>\n",
       "    <tr>\n",
       "      <th>2</th>\n",
       "      <td>0xbbf363</td>\n",
       "      <td>0x29f577204c90ce6bfb0416a0cc06cab850d3a13e6909...</td>\n",
       "      <td>270043</td>\n",
       "      <td>244683</td>\n",
       "      <td>25360</td>\n",
       "      <td>9.39</td>\n",
       "    </tr>\n",
       "    <tr>\n",
       "      <th>3</th>\n",
       "      <td>0xbbf366</td>\n",
       "      <td>0x48522ba0493bd323a0aed85343554f200f87d6903645...</td>\n",
       "      <td>244001</td>\n",
       "      <td>227501</td>\n",
       "      <td>16500</td>\n",
       "      <td>6.76</td>\n",
       "    </tr>\n",
       "    <tr>\n",
       "      <th>4</th>\n",
       "      <td>0xbbf367</td>\n",
       "      <td>0x34bd042b501f70e2cae1f6e0cf931c865d26ee11a84a...</td>\n",
       "      <td>209791</td>\n",
       "      <td>193246</td>\n",
       "      <td>16545</td>\n",
       "      <td>7.89</td>\n",
       "    </tr>\n",
       "  </tbody>\n",
       "</table>\n",
       "</div>"
      ],
      "text/plain": [
       "    Block #                                       Transactions  Gas Used  \\\n",
       "0  0xbbf35f  0x4000f94fabd0ee7de180299e0cd39c12d1f12c2cf1da...    244001   \n",
       "1  0xbbf362  0xa75da7fb949426815a605536578e98c2d89799077b50...    341844   \n",
       "2  0xbbf363  0x29f577204c90ce6bfb0416a0cc06cab850d3a13e6909...    270043   \n",
       "3  0xbbf366  0x48522ba0493bd323a0aed85343554f200f87d6903645...    244001   \n",
       "4  0xbbf367  0x34bd042b501f70e2cae1f6e0cf931c865d26ee11a84a...    209791   \n",
       "\n",
       "   Gas Used RP  Difference     %  \n",
       "0       227501       16500  6.76  \n",
       "1       315066       26778  7.83  \n",
       "2       244683       25360  9.39  \n",
       "3       227501       16500  6.76  \n",
       "4       193246       16545  7.89  "
      ]
     },
     "execution_count": 18,
     "metadata": {},
     "output_type": "execute_result"
    }
   ],
   "source": [
    "sample = get_sample(results[contract], new_columns, filter_columns)\n",
    "sample.head()"
   ]
  },
  {
   "cell_type": "markdown",
   "id": "75cf9c8f",
   "metadata": {},
   "source": [
    "## Average gasUsed, gasUsedRP, Difference"
   ]
  },
  {
   "cell_type": "code",
   "execution_count": 19,
   "id": "44dabecf",
   "metadata": {},
   "outputs": [
    {
     "data": {
      "text/plain": [
       "Gas Used       294614.779441\n",
       "Gas Used RP    272707.087325\n",
       "Difference      21907.692116\n",
       "%                   7.343418\n",
       "dtype: float64"
      ]
     },
     "execution_count": 19,
     "metadata": {},
     "output_type": "execute_result"
    }
   ],
   "source": [
    "sample.iloc[:,2:].apply(np.mean)"
   ]
  },
  {
   "cell_type": "markdown",
   "id": "8890f521",
   "metadata": {},
   "source": [
    "# Minimum gasUsed, gasUsedRP, Difference"
   ]
  },
  {
   "cell_type": "code",
   "execution_count": 20,
   "id": "e2cbf3ea",
   "metadata": {},
   "outputs": [
    {
     "data": {
      "text/plain": [
       "Gas Used       5326.0\n",
       "Gas Used RP    4887.0\n",
       "Difference      248.0\n",
       "%                 1.0\n",
       "dtype: float64"
      ]
     },
     "execution_count": 20,
     "metadata": {},
     "output_type": "execute_result"
    }
   ],
   "source": [
    "sample.iloc[:,2:].apply(np.min)"
   ]
  },
  {
   "cell_type": "markdown",
   "id": "a2a05ec1",
   "metadata": {},
   "source": [
    "## Maximum gasUsed, gasUsedRP, Difference"
   ]
  },
  {
   "cell_type": "code",
   "execution_count": 21,
   "id": "985c2dcd",
   "metadata": {},
   "outputs": [
    {
     "data": {
      "text/plain": [
       "Gas Used       3156235.00\n",
       "Gas Used RP    2867038.00\n",
       "Difference      289197.00\n",
       "%                   25.38\n",
       "dtype: float64"
      ]
     },
     "execution_count": 21,
     "metadata": {},
     "output_type": "execute_result"
    }
   ],
   "source": [
    "sample.iloc[:,2:].apply(np.max)"
   ]
  },
  {
   "cell_type": "markdown",
   "id": "61aed507",
   "metadata": {},
   "source": [
    "# 1Inch"
   ]
  },
  {
   "cell_type": "code",
   "execution_count": 22,
   "id": "7f1704e3",
   "metadata": {},
   "outputs": [
    {
     "name": "stdout",
     "output_type": "stream",
     "text": [
      "Total traced transactions: 7253\n"
     ]
    }
   ],
   "source": [
    "contract = '1inch'\n",
    "print('Total traced transactions:', len(results[contract]))"
   ]
  },
  {
   "cell_type": "code",
   "execution_count": 23,
   "id": "d388f8f8",
   "metadata": {},
   "outputs": [
    {
     "data": {
      "text/html": [
       "<div>\n",
       "<style scoped>\n",
       "    .dataframe tbody tr th:only-of-type {\n",
       "        vertical-align: middle;\n",
       "    }\n",
       "\n",
       "    .dataframe tbody tr th {\n",
       "        vertical-align: top;\n",
       "    }\n",
       "\n",
       "    .dataframe thead th {\n",
       "        text-align: right;\n",
       "    }\n",
       "</style>\n",
       "<table border=\"1\" class=\"dataframe\">\n",
       "  <thead>\n",
       "    <tr style=\"text-align: right;\">\n",
       "      <th></th>\n",
       "      <th>Block #</th>\n",
       "      <th>Transactions</th>\n",
       "      <th>Gas Used</th>\n",
       "      <th>Gas Used RP</th>\n",
       "      <th>Difference</th>\n",
       "      <th>%</th>\n",
       "    </tr>\n",
       "  </thead>\n",
       "  <tbody>\n",
       "    <tr>\n",
       "      <th>0</th>\n",
       "      <td>0xbbf35e</td>\n",
       "      <td>0x62eedd32e8be32bfba8639085bda6826c96d19cf59fa...</td>\n",
       "      <td>100719</td>\n",
       "      <td>96336</td>\n",
       "      <td>4383</td>\n",
       "      <td>4.35</td>\n",
       "    </tr>\n",
       "    <tr>\n",
       "      <th>1</th>\n",
       "      <td>0xbbf35f</td>\n",
       "      <td>0x553f2c0568467b8fcb13ab905758138a7d4e5b73746b...</td>\n",
       "      <td>122707</td>\n",
       "      <td>116349</td>\n",
       "      <td>6358</td>\n",
       "      <td>5.18</td>\n",
       "    </tr>\n",
       "    <tr>\n",
       "      <th>2</th>\n",
       "      <td>0xbbf366</td>\n",
       "      <td>0xd6c7f4a1a1824223dc4a121741ceb5d6f8cc32b42b38...</td>\n",
       "      <td>113347</td>\n",
       "      <td>109084</td>\n",
       "      <td>4263</td>\n",
       "      <td>3.76</td>\n",
       "    </tr>\n",
       "    <tr>\n",
       "      <th>3</th>\n",
       "      <td>0xbbf366</td>\n",
       "      <td>0xd6c7f4a1a1824223dc4a121741ceb5d6f8cc32b42b38...</td>\n",
       "      <td>113347</td>\n",
       "      <td>109084</td>\n",
       "      <td>4263</td>\n",
       "      <td>3.76</td>\n",
       "    </tr>\n",
       "    <tr>\n",
       "      <th>4</th>\n",
       "      <td>0xbbf368</td>\n",
       "      <td>0x6661521ef9587895f06738a52bc243afa2291956252d...</td>\n",
       "      <td>112957</td>\n",
       "      <td>108872</td>\n",
       "      <td>4085</td>\n",
       "      <td>3.62</td>\n",
       "    </tr>\n",
       "  </tbody>\n",
       "</table>\n",
       "</div>"
      ],
      "text/plain": [
       "    Block #                                       Transactions  Gas Used  \\\n",
       "0  0xbbf35e  0x62eedd32e8be32bfba8639085bda6826c96d19cf59fa...    100719   \n",
       "1  0xbbf35f  0x553f2c0568467b8fcb13ab905758138a7d4e5b73746b...    122707   \n",
       "2  0xbbf366  0xd6c7f4a1a1824223dc4a121741ceb5d6f8cc32b42b38...    113347   \n",
       "3  0xbbf366  0xd6c7f4a1a1824223dc4a121741ceb5d6f8cc32b42b38...    113347   \n",
       "4  0xbbf368  0x6661521ef9587895f06738a52bc243afa2291956252d...    112957   \n",
       "\n",
       "   Gas Used RP  Difference     %  \n",
       "0        96336        4383  4.35  \n",
       "1       116349        6358  5.18  \n",
       "2       109084        4263  3.76  \n",
       "3       109084        4263  3.76  \n",
       "4       108872        4085  3.62  "
      ]
     },
     "execution_count": 23,
     "metadata": {},
     "output_type": "execute_result"
    }
   ],
   "source": [
    "sample = get_sample(results[contract], new_columns, filter_columns)\n",
    "sample.head()"
   ]
  },
  {
   "cell_type": "markdown",
   "id": "d3ff0ed5",
   "metadata": {},
   "source": [
    "## Average gasUsed, gasUsedRP, Difference"
   ]
  },
  {
   "cell_type": "code",
   "execution_count": 24,
   "id": "f651a506",
   "metadata": {},
   "outputs": [
    {
     "data": {
      "text/plain": [
       "Gas Used       178508.723838\n",
       "Gas Used RP    166468.228181\n",
       "Difference      12040.495657\n",
       "%                   5.708132\n",
       "dtype: float64"
      ]
     },
     "execution_count": 24,
     "metadata": {},
     "output_type": "execute_result"
    }
   ],
   "source": [
    "sample.iloc[:,2:].apply(np.mean)"
   ]
  },
  {
   "cell_type": "markdown",
   "id": "79f89f6b",
   "metadata": {},
   "source": [
    "## Minimum gasUsed, gasUsedRP, Difference"
   ]
  },
  {
   "cell_type": "code",
   "execution_count": 25,
   "id": "ff0212d7",
   "metadata": {},
   "outputs": [
    {
     "data": {
      "text/plain": [
       "Gas Used       544.0\n",
       "Gas Used RP    316.0\n",
       "Difference     215.0\n",
       "%                0.4\n",
       "dtype: float64"
      ]
     },
     "execution_count": 25,
     "metadata": {},
     "output_type": "execute_result"
    }
   ],
   "source": [
    "sample.iloc[:,2:].apply(np.min)"
   ]
  },
  {
   "cell_type": "markdown",
   "id": "5b8065ab",
   "metadata": {},
   "source": [
    "## Maximum gasUsed, gasUsedRP, Difference"
   ]
  },
  {
   "cell_type": "code",
   "execution_count": 26,
   "id": "c27a8730",
   "metadata": {},
   "outputs": [
    {
     "data": {
      "text/plain": [
       "Gas Used       2430076.00\n",
       "Gas Used RP    2406331.00\n",
       "Difference      207364.00\n",
       "%                   41.91\n",
       "dtype: float64"
      ]
     },
     "execution_count": 26,
     "metadata": {},
     "output_type": "execute_result"
    }
   ],
   "source": [
    "sample.iloc[:,2:].apply(np.max)"
   ]
  },
  {
   "cell_type": "markdown",
   "id": "aa583356",
   "metadata": {},
   "source": [
    "# Metamask Swap"
   ]
  },
  {
   "cell_type": "code",
   "execution_count": 27,
   "id": "32c540ce",
   "metadata": {},
   "outputs": [
    {
     "name": "stdout",
     "output_type": "stream",
     "text": [
      "Total traced transactions: 13652\n"
     ]
    }
   ],
   "source": [
    "contract = 'mm_swap'\n",
    "print('Total traced transactions:', len(results[contract]))"
   ]
  },
  {
   "cell_type": "code",
   "execution_count": 28,
   "id": "a306b21f",
   "metadata": {},
   "outputs": [
    {
     "data": {
      "text/html": [
       "<div>\n",
       "<style scoped>\n",
       "    .dataframe tbody tr th:only-of-type {\n",
       "        vertical-align: middle;\n",
       "    }\n",
       "\n",
       "    .dataframe tbody tr th {\n",
       "        vertical-align: top;\n",
       "    }\n",
       "\n",
       "    .dataframe thead th {\n",
       "        text-align: right;\n",
       "    }\n",
       "</style>\n",
       "<table border=\"1\" class=\"dataframe\">\n",
       "  <thead>\n",
       "    <tr style=\"text-align: right;\">\n",
       "      <th></th>\n",
       "      <th>Block #</th>\n",
       "      <th>Transactions</th>\n",
       "      <th>Gas Used</th>\n",
       "      <th>Gas Used RP</th>\n",
       "      <th>Difference</th>\n",
       "      <th>%</th>\n",
       "    </tr>\n",
       "  </thead>\n",
       "  <tbody>\n",
       "    <tr>\n",
       "      <th>0</th>\n",
       "      <td>0xbbf360</td>\n",
       "      <td>0x77727e8b2d4c08127db3dc41dc3f7895a7d9e6a375ef...</td>\n",
       "      <td>227112</td>\n",
       "      <td>215430</td>\n",
       "      <td>11682</td>\n",
       "      <td>5.14</td>\n",
       "    </tr>\n",
       "    <tr>\n",
       "      <th>1</th>\n",
       "      <td>0xbbf360</td>\n",
       "      <td>0xe8f077fb25e6b6f4aa5efaa515a5938f5c7ee3fed023...</td>\n",
       "      <td>191344</td>\n",
       "      <td>178657</td>\n",
       "      <td>12687</td>\n",
       "      <td>6.63</td>\n",
       "    </tr>\n",
       "    <tr>\n",
       "      <th>2</th>\n",
       "      <td>0xbbf360</td>\n",
       "      <td>0xe62f2eee5a4f2e074bd2649a43e2638bcbec610d129f...</td>\n",
       "      <td>175521</td>\n",
       "      <td>166693</td>\n",
       "      <td>8828</td>\n",
       "      <td>5.03</td>\n",
       "    </tr>\n",
       "    <tr>\n",
       "      <th>3</th>\n",
       "      <td>0xbbf360</td>\n",
       "      <td>0x1287cfde3241d8f169b45631699174d6f8a867fb15d5...</td>\n",
       "      <td>200870</td>\n",
       "      <td>188680</td>\n",
       "      <td>12190</td>\n",
       "      <td>6.07</td>\n",
       "    </tr>\n",
       "    <tr>\n",
       "      <th>4</th>\n",
       "      <td>0xbbf360</td>\n",
       "      <td>0xf96e8faf205829bc84be811279ddfc78aada61a8d446...</td>\n",
       "      <td>183736</td>\n",
       "      <td>162698</td>\n",
       "      <td>21038</td>\n",
       "      <td>11.45</td>\n",
       "    </tr>\n",
       "  </tbody>\n",
       "</table>\n",
       "</div>"
      ],
      "text/plain": [
       "    Block #                                       Transactions  Gas Used  \\\n",
       "0  0xbbf360  0x77727e8b2d4c08127db3dc41dc3f7895a7d9e6a375ef...    227112   \n",
       "1  0xbbf360  0xe8f077fb25e6b6f4aa5efaa515a5938f5c7ee3fed023...    191344   \n",
       "2  0xbbf360  0xe62f2eee5a4f2e074bd2649a43e2638bcbec610d129f...    175521   \n",
       "3  0xbbf360  0x1287cfde3241d8f169b45631699174d6f8a867fb15d5...    200870   \n",
       "4  0xbbf360  0xf96e8faf205829bc84be811279ddfc78aada61a8d446...    183736   \n",
       "\n",
       "   Gas Used RP  Difference      %  \n",
       "0       215430       11682   5.14  \n",
       "1       178657       12687   6.63  \n",
       "2       166693        8828   5.03  \n",
       "3       188680       12190   6.07  \n",
       "4       162698       21038  11.45  "
      ]
     },
     "execution_count": 28,
     "metadata": {},
     "output_type": "execute_result"
    }
   ],
   "source": [
    "sample = get_sample(results[contract], new_columns, filter_columns)\n",
    "sample.head()"
   ]
  },
  {
   "cell_type": "markdown",
   "id": "701e0100",
   "metadata": {},
   "source": [
    "## Average gasUsed, gasUsedRP, Difference"
   ]
  },
  {
   "cell_type": "code",
   "execution_count": 29,
   "id": "2cb91be3",
   "metadata": {},
   "outputs": [
    {
     "data": {
      "text/plain": [
       "Gas Used       210745.842953\n",
       "Gas Used RP    198401.027835\n",
       "Difference      12344.815119\n",
       "%                   5.691159\n",
       "dtype: float64"
      ]
     },
     "execution_count": 29,
     "metadata": {},
     "output_type": "execute_result"
    }
   ],
   "source": [
    "sample.iloc[:,2:].apply(np.mean)"
   ]
  },
  {
   "cell_type": "markdown",
   "id": "e5421bc6",
   "metadata": {},
   "source": [
    "## Minimum gasUsed, gasUsedRP, Difference"
   ]
  },
  {
   "cell_type": "code",
   "execution_count": 30,
   "id": "a61780c4",
   "metadata": {},
   "outputs": [
    {
     "data": {
      "text/plain": [
       "Gas Used       563.0\n",
       "Gas Used RP    320.0\n",
       "Difference      72.0\n",
       "%                0.1\n",
       "dtype: float64"
      ]
     },
     "execution_count": 30,
     "metadata": {},
     "output_type": "execute_result"
    }
   ],
   "source": [
    "sample.iloc[:,2:].apply(np.min)"
   ]
  },
  {
   "cell_type": "markdown",
   "id": "68271545",
   "metadata": {},
   "source": [
    "## Maximum gasUsed, gasUsedRP, Difference"
   ]
  },
  {
   "cell_type": "code",
   "execution_count": 31,
   "id": "fffa4f69",
   "metadata": {},
   "outputs": [
    {
     "data": {
      "text/plain": [
       "Gas Used       2433208.00\n",
       "Gas Used RP    2407720.00\n",
       "Difference      254552.00\n",
       "%                   43.16\n",
       "dtype: float64"
      ]
     },
     "execution_count": 31,
     "metadata": {},
     "output_type": "execute_result"
    }
   ],
   "source": [
    "sample.iloc[:,2:].apply(np.max)"
   ]
  },
  {
   "cell_type": "markdown",
   "id": "7d5eb96b",
   "metadata": {},
   "source": [
    "# Uniswap"
   ]
  },
  {
   "cell_type": "code",
   "execution_count": 32,
   "id": "56748514",
   "metadata": {},
   "outputs": [
    {
     "name": "stdout",
     "output_type": "stream",
     "text": [
      "Total traced transactions: 77600\n"
     ]
    }
   ],
   "source": [
    "contract = 'uniswap'\n",
    "print('Total traced transactions:', len(results[contract]))"
   ]
  },
  {
   "cell_type": "code",
   "execution_count": 33,
   "id": "20759607",
   "metadata": {},
   "outputs": [
    {
     "data": {
      "text/html": [
       "<div>\n",
       "<style scoped>\n",
       "    .dataframe tbody tr th:only-of-type {\n",
       "        vertical-align: middle;\n",
       "    }\n",
       "\n",
       "    .dataframe tbody tr th {\n",
       "        vertical-align: top;\n",
       "    }\n",
       "\n",
       "    .dataframe thead th {\n",
       "        text-align: right;\n",
       "    }\n",
       "</style>\n",
       "<table border=\"1\" class=\"dataframe\">\n",
       "  <thead>\n",
       "    <tr style=\"text-align: right;\">\n",
       "      <th></th>\n",
       "      <th>Block #</th>\n",
       "      <th>Transactions</th>\n",
       "      <th>Gas Used</th>\n",
       "      <th>Gas Used RP</th>\n",
       "      <th>Difference</th>\n",
       "      <th>%</th>\n",
       "    </tr>\n",
       "  </thead>\n",
       "  <tbody>\n",
       "    <tr>\n",
       "      <th>0</th>\n",
       "      <td>0xbbcd65</td>\n",
       "      <td>0x5e6d5bf3c26e57f7660a1d8bcb3105fec8f3d6b6ce90...</td>\n",
       "      <td>106777</td>\n",
       "      <td>100023</td>\n",
       "      <td>6754</td>\n",
       "      <td>6.33</td>\n",
       "    </tr>\n",
       "    <tr>\n",
       "      <th>1</th>\n",
       "      <td>0xbbcd65</td>\n",
       "      <td>0xef6102ed1c3a4841aaae5d6fbb0e5cf139584a0776be...</td>\n",
       "      <td>83381</td>\n",
       "      <td>76505</td>\n",
       "      <td>6876</td>\n",
       "      <td>8.25</td>\n",
       "    </tr>\n",
       "    <tr>\n",
       "      <th>2</th>\n",
       "      <td>0xbbcd65</td>\n",
       "      <td>0x8a7eec8c1e392d0f2d8178731061024bff3f64f4c0c9...</td>\n",
       "      <td>121450</td>\n",
       "      <td>114766</td>\n",
       "      <td>6684</td>\n",
       "      <td>5.50</td>\n",
       "    </tr>\n",
       "    <tr>\n",
       "      <th>3</th>\n",
       "      <td>0xbbcd65</td>\n",
       "      <td>0xc5ad659bbb28dc475f7cae798ae752c5cc07f5608aaf...</td>\n",
       "      <td>65866</td>\n",
       "      <td>60376</td>\n",
       "      <td>5490</td>\n",
       "      <td>8.34</td>\n",
       "    </tr>\n",
       "    <tr>\n",
       "      <th>4</th>\n",
       "      <td>0xbbcd65</td>\n",
       "      <td>0x2c015811f7241d46e583b449850af1d9faed32c036a1...</td>\n",
       "      <td>118690</td>\n",
       "      <td>112303</td>\n",
       "      <td>6387</td>\n",
       "      <td>5.38</td>\n",
       "    </tr>\n",
       "  </tbody>\n",
       "</table>\n",
       "</div>"
      ],
      "text/plain": [
       "    Block #                                       Transactions  Gas Used  \\\n",
       "0  0xbbcd65  0x5e6d5bf3c26e57f7660a1d8bcb3105fec8f3d6b6ce90...    106777   \n",
       "1  0xbbcd65  0xef6102ed1c3a4841aaae5d6fbb0e5cf139584a0776be...     83381   \n",
       "2  0xbbcd65  0x8a7eec8c1e392d0f2d8178731061024bff3f64f4c0c9...    121450   \n",
       "3  0xbbcd65  0xc5ad659bbb28dc475f7cae798ae752c5cc07f5608aaf...     65866   \n",
       "4  0xbbcd65  0x2c015811f7241d46e583b449850af1d9faed32c036a1...    118690   \n",
       "\n",
       "   Gas Used RP  Difference     %  \n",
       "0       100023        6754  6.33  \n",
       "1        76505        6876  8.25  \n",
       "2       114766        6684  5.50  \n",
       "3        60376        5490  8.34  \n",
       "4       112303        6387  5.38  "
      ]
     },
     "execution_count": 33,
     "metadata": {},
     "output_type": "execute_result"
    }
   ],
   "source": [
    "sample = get_sample(results[contract], new_columns, filter_columns)\n",
    "sample.head()"
   ]
  },
  {
   "cell_type": "markdown",
   "id": "9d36c884",
   "metadata": {},
   "source": [
    "## Average gasUsed, gasUsedRP, Difference"
   ]
  },
  {
   "cell_type": "code",
   "execution_count": 34,
   "id": "1879e6cc",
   "metadata": {},
   "outputs": [
    {
     "data": {
      "text/plain": [
       "Gas Used       122717.535838\n",
       "Gas Used RP    114881.337745\n",
       "Difference       7836.198093\n",
       "%                   9.391907\n",
       "dtype: float64"
      ]
     },
     "execution_count": 34,
     "metadata": {},
     "output_type": "execute_result"
    }
   ],
   "source": [
    "sample.iloc[:,2:].apply(np.mean)"
   ]
  },
  {
   "cell_type": "markdown",
   "id": "88d1528b",
   "metadata": {},
   "source": [
    "## Minimum gasUsed, gasUsedRP, Difference"
   ]
  },
  {
   "cell_type": "code",
   "execution_count": 35,
   "id": "694bca5d",
   "metadata": {},
   "outputs": [
    {
     "data": {
      "text/plain": [
       "Gas Used       55.00\n",
       "Gas Used RP    43.00\n",
       "Difference     12.00\n",
       "%               0.03\n",
       "dtype: float64"
      ]
     },
     "execution_count": 35,
     "metadata": {},
     "output_type": "execute_result"
    }
   ],
   "source": [
    "sample.iloc[:,2:].apply(np.min)"
   ]
  },
  {
   "cell_type": "markdown",
   "id": "96d71999",
   "metadata": {},
   "source": [
    "## Maximum gasUsed, gasUsedRP, Difference"
   ]
  },
  {
   "cell_type": "code",
   "execution_count": 36,
   "id": "100fc0b5",
   "metadata": {},
   "outputs": [
    {
     "data": {
      "text/plain": [
       "Gas Used       3549162.00\n",
       "Gas Used RP    3513289.00\n",
       "Difference       60638.00\n",
       "%                   44.92\n",
       "dtype: float64"
      ]
     },
     "execution_count": 36,
     "metadata": {},
     "output_type": "execute_result"
    }
   ],
   "source": [
    "sample.iloc[:,2:].apply(np.max)"
   ]
  },
  {
   "cell_type": "markdown",
   "id": "6955abb7",
   "metadata": {},
   "source": [
    "# USDT"
   ]
  },
  {
   "cell_type": "code",
   "execution_count": 37,
   "id": "ce2f107f",
   "metadata": {},
   "outputs": [
    {
     "name": "stdout",
     "output_type": "stream",
     "text": [
      "Total traced transactions: 183925\n"
     ]
    }
   ],
   "source": [
    "contract = 'usdt'\n",
    "print('Total traced transactions:', len(results[contract]))"
   ]
  },
  {
   "cell_type": "code",
   "execution_count": 38,
   "id": "ff8f4eac",
   "metadata": {},
   "outputs": [
    {
     "data": {
      "text/html": [
       "<div>\n",
       "<style scoped>\n",
       "    .dataframe tbody tr th:only-of-type {\n",
       "        vertical-align: middle;\n",
       "    }\n",
       "\n",
       "    .dataframe tbody tr th {\n",
       "        vertical-align: top;\n",
       "    }\n",
       "\n",
       "    .dataframe thead th {\n",
       "        text-align: right;\n",
       "    }\n",
       "</style>\n",
       "<table border=\"1\" class=\"dataframe\">\n",
       "  <thead>\n",
       "    <tr style=\"text-align: right;\">\n",
       "      <th></th>\n",
       "      <th>Block #</th>\n",
       "      <th>Transactions</th>\n",
       "      <th>Gas Used</th>\n",
       "      <th>Gas Used RP</th>\n",
       "      <th>Difference</th>\n",
       "      <th>%</th>\n",
       "    </tr>\n",
       "  </thead>\n",
       "  <tbody>\n",
       "    <tr>\n",
       "      <th>0</th>\n",
       "      <td>0xbbf35e</td>\n",
       "      <td>0xfb9ace8a1556803fcdbebaa001f382f5ce90769103c5...</td>\n",
       "      <td>41601</td>\n",
       "      <td>40757</td>\n",
       "      <td>844</td>\n",
       "      <td>2.03</td>\n",
       "    </tr>\n",
       "    <tr>\n",
       "      <th>1</th>\n",
       "      <td>0xbbf35e</td>\n",
       "      <td>0x8e93fc8f381571d6b7793c12ad424791015142195f26...</td>\n",
       "      <td>41601</td>\n",
       "      <td>40757</td>\n",
       "      <td>844</td>\n",
       "      <td>2.03</td>\n",
       "    </tr>\n",
       "    <tr>\n",
       "      <th>2</th>\n",
       "      <td>0xbbf35e</td>\n",
       "      <td>0xf9f6fd000fbcd994f8f686f5b6ec7ed24220b056149b...</td>\n",
       "      <td>41601</td>\n",
       "      <td>40757</td>\n",
       "      <td>844</td>\n",
       "      <td>2.03</td>\n",
       "    </tr>\n",
       "    <tr>\n",
       "      <th>3</th>\n",
       "      <td>0xbbf35e</td>\n",
       "      <td>0x8d43e3236858466e64efbf0bf6c279f8f2b3e9f91d5b...</td>\n",
       "      <td>24501</td>\n",
       "      <td>23657</td>\n",
       "      <td>844</td>\n",
       "      <td>3.44</td>\n",
       "    </tr>\n",
       "    <tr>\n",
       "      <th>4</th>\n",
       "      <td>0xbbf35e</td>\n",
       "      <td>0x0cb835eecfb45125e45daf3daad1931d0ed850534301...</td>\n",
       "      <td>24501</td>\n",
       "      <td>23657</td>\n",
       "      <td>844</td>\n",
       "      <td>3.44</td>\n",
       "    </tr>\n",
       "  </tbody>\n",
       "</table>\n",
       "</div>"
      ],
      "text/plain": [
       "    Block #                                       Transactions  Gas Used  \\\n",
       "0  0xbbf35e  0xfb9ace8a1556803fcdbebaa001f382f5ce90769103c5...     41601   \n",
       "1  0xbbf35e  0x8e93fc8f381571d6b7793c12ad424791015142195f26...     41601   \n",
       "2  0xbbf35e  0xf9f6fd000fbcd994f8f686f5b6ec7ed24220b056149b...     41601   \n",
       "3  0xbbf35e  0x8d43e3236858466e64efbf0bf6c279f8f2b3e9f91d5b...     24501   \n",
       "4  0xbbf35e  0x0cb835eecfb45125e45daf3daad1931d0ed850534301...     24501   \n",
       "\n",
       "   Gas Used RP  Difference     %  \n",
       "0        40757         844  2.03  \n",
       "1        40757         844  2.03  \n",
       "2        40757         844  2.03  \n",
       "3        23657         844  3.44  \n",
       "4        23657         844  3.44  "
      ]
     },
     "execution_count": 38,
     "metadata": {},
     "output_type": "execute_result"
    }
   ],
   "source": [
    "sample = get_sample(results[contract], new_columns, filter_columns)\n",
    "sample.head()"
   ]
  },
  {
   "cell_type": "markdown",
   "id": "f976dfab",
   "metadata": {},
   "source": [
    "## Average gasUsed, gasUsedRP, Difference"
   ]
  },
  {
   "cell_type": "code",
   "execution_count": 39,
   "id": "cd090e16",
   "metadata": {},
   "outputs": [
    {
     "data": {
      "text/plain": [
       "Gas Used       33170.483061\n",
       "Gas Used RP    32213.608085\n",
       "Difference       956.874976\n",
       "%                  2.877546\n",
       "dtype: float64"
      ]
     },
     "execution_count": 39,
     "metadata": {},
     "output_type": "execute_result"
    }
   ],
   "source": [
    "sample.iloc[:,2:].apply(np.mean)"
   ]
  },
  {
   "cell_type": "markdown",
   "id": "b4751ed1",
   "metadata": {},
   "source": [
    "## Minimum gasUsed, gasUsedRP, Difference"
   ]
  },
  {
   "cell_type": "code",
   "execution_count": 40,
   "id": "ad9c6af4",
   "metadata": {},
   "outputs": [
    {
     "data": {
      "text/plain": [
       "Gas Used       21.00\n",
       "Gas Used RP    15.00\n",
       "Difference      6.00\n",
       "%               0.02\n",
       "dtype: float64"
      ]
     },
     "execution_count": 40,
     "metadata": {},
     "output_type": "execute_result"
    }
   ],
   "source": [
    "sample.iloc[:,2:].apply(np.min)"
   ]
  },
  {
   "cell_type": "markdown",
   "id": "63df2e6a",
   "metadata": {},
   "source": [
    "## Maximum gasUsed, gasUsedRP, Difference"
   ]
  },
  {
   "cell_type": "code",
   "execution_count": 41,
   "id": "3e019d83",
   "metadata": {},
   "outputs": [
    {
     "data": {
      "text/plain": [
       "Gas Used       5616221.00\n",
       "Gas Used RP    5579274.00\n",
       "Difference       89827.00\n",
       "%                   43.16\n",
       "dtype: float64"
      ]
     },
     "execution_count": 41,
     "metadata": {},
     "output_type": "execute_result"
    }
   ],
   "source": [
    "sample.iloc[:,2:].apply(np.max)"
   ]
  },
  {
   "cell_type": "markdown",
   "id": "ac2903e1",
   "metadata": {},
   "source": [
    "# USDC"
   ]
  },
  {
   "cell_type": "code",
   "execution_count": 42,
   "id": "9c123b85",
   "metadata": {},
   "outputs": [
    {
     "name": "stdout",
     "output_type": "stream",
     "text": [
      "Total traced transactions: 67406\n"
     ]
    }
   ],
   "source": [
    "contract = 'usdc'\n",
    "print('Total traced transactions:', len(results[contract]))"
   ]
  },
  {
   "cell_type": "code",
   "execution_count": 43,
   "id": "4dfdd03f",
   "metadata": {},
   "outputs": [
    {
     "data": {
      "text/html": [
       "<div>\n",
       "<style scoped>\n",
       "    .dataframe tbody tr th:only-of-type {\n",
       "        vertical-align: middle;\n",
       "    }\n",
       "\n",
       "    .dataframe tbody tr th {\n",
       "        vertical-align: top;\n",
       "    }\n",
       "\n",
       "    .dataframe thead th {\n",
       "        text-align: right;\n",
       "    }\n",
       "</style>\n",
       "<table border=\"1\" class=\"dataframe\">\n",
       "  <thead>\n",
       "    <tr style=\"text-align: right;\">\n",
       "      <th></th>\n",
       "      <th>Block #</th>\n",
       "      <th>Transactions</th>\n",
       "      <th>Gas Used</th>\n",
       "      <th>Gas Used RP</th>\n",
       "      <th>Difference</th>\n",
       "      <th>%</th>\n",
       "    </tr>\n",
       "  </thead>\n",
       "  <tbody>\n",
       "    <tr>\n",
       "      <th>0</th>\n",
       "      <td>0xbbf35e</td>\n",
       "      <td>0xbedbafbae90513e0a2d21a82f0c8f31fefd18a4b382f...</td>\n",
       "      <td>26873</td>\n",
       "      <td>26205</td>\n",
       "      <td>668</td>\n",
       "      <td>2.49</td>\n",
       "    </tr>\n",
       "    <tr>\n",
       "      <th>1</th>\n",
       "      <td>0xbbf35e</td>\n",
       "      <td>0xf3cb9b4641f5699af6002195b165fe11945dd2c59055...</td>\n",
       "      <td>43973</td>\n",
       "      <td>43305</td>\n",
       "      <td>668</td>\n",
       "      <td>1.52</td>\n",
       "    </tr>\n",
       "    <tr>\n",
       "      <th>2</th>\n",
       "      <td>0xbbf35e</td>\n",
       "      <td>0x3151d17ec4d4ce3572a3fd23b20402e2ffd488485cea...</td>\n",
       "      <td>26873</td>\n",
       "      <td>26205</td>\n",
       "      <td>668</td>\n",
       "      <td>2.49</td>\n",
       "    </tr>\n",
       "    <tr>\n",
       "      <th>3</th>\n",
       "      <td>0xbbf35e</td>\n",
       "      <td>0x1d59a26f01981e8d708fd3382e784178b40bdc6a0450...</td>\n",
       "      <td>43973</td>\n",
       "      <td>43305</td>\n",
       "      <td>668</td>\n",
       "      <td>1.52</td>\n",
       "    </tr>\n",
       "    <tr>\n",
       "      <th>4</th>\n",
       "      <td>0xbbf35e</td>\n",
       "      <td>0x568a8658d0f533592fc0365fa6ea9c826268e12400c8...</td>\n",
       "      <td>26873</td>\n",
       "      <td>26205</td>\n",
       "      <td>668</td>\n",
       "      <td>2.49</td>\n",
       "    </tr>\n",
       "  </tbody>\n",
       "</table>\n",
       "</div>"
      ],
      "text/plain": [
       "    Block #                                       Transactions  Gas Used  \\\n",
       "0  0xbbf35e  0xbedbafbae90513e0a2d21a82f0c8f31fefd18a4b382f...     26873   \n",
       "1  0xbbf35e  0xf3cb9b4641f5699af6002195b165fe11945dd2c59055...     43973   \n",
       "2  0xbbf35e  0x3151d17ec4d4ce3572a3fd23b20402e2ffd488485cea...     26873   \n",
       "3  0xbbf35e  0x1d59a26f01981e8d708fd3382e784178b40bdc6a0450...     43973   \n",
       "4  0xbbf35e  0x568a8658d0f533592fc0365fa6ea9c826268e12400c8...     26873   \n",
       "\n",
       "   Gas Used RP  Difference     %  \n",
       "0        26205         668  2.49  \n",
       "1        43305         668  1.52  \n",
       "2        26205         668  2.49  \n",
       "3        43305         668  1.52  \n",
       "4        26205         668  2.49  "
      ]
     },
     "execution_count": 43,
     "metadata": {},
     "output_type": "execute_result"
    }
   ],
   "source": [
    "sample = get_sample(results[contract], new_columns, filter_columns)\n",
    "sample.head()"
   ]
  },
  {
   "cell_type": "markdown",
   "id": "3d99e256",
   "metadata": {},
   "source": [
    "## Average gasUsed, gasusedRP, Difference"
   ]
  },
  {
   "cell_type": "code",
   "execution_count": 44,
   "id": "ab4a26b0",
   "metadata": {},
   "outputs": [
    {
     "data": {
      "text/plain": [
       "Gas Used       39438.348070\n",
       "Gas Used RP    38634.609189\n",
       "Difference       803.738881\n",
       "%                  1.917254\n",
       "dtype: float64"
      ]
     },
     "execution_count": 44,
     "metadata": {},
     "output_type": "execute_result"
    }
   ],
   "source": [
    "sample.iloc[:,2:].apply(np.mean)"
   ]
  },
  {
   "cell_type": "markdown",
   "id": "c85522ad",
   "metadata": {},
   "source": [
    "## Minimum gasUsed, gasUsedRP, Difference"
   ]
  },
  {
   "cell_type": "code",
   "execution_count": 45,
   "id": "d5da6ef5",
   "metadata": {},
   "outputs": [
    {
     "data": {
      "text/plain": [
       "Gas Used       55.00\n",
       "Gas Used RP    43.00\n",
       "Difference     12.00\n",
       "%               0.33\n",
       "dtype: float64"
      ]
     },
     "execution_count": 45,
     "metadata": {},
     "output_type": "execute_result"
    }
   ],
   "source": [
    "sample.iloc[:,2:].apply(np.min)"
   ]
  },
  {
   "cell_type": "markdown",
   "id": "d88fa43f",
   "metadata": {},
   "source": [
    "## Maximum gasUsed, gasUsedRP, Difference"
   ]
  },
  {
   "cell_type": "code",
   "execution_count": 46,
   "id": "fa0b7eee",
   "metadata": {},
   "outputs": [
    {
     "data": {
      "text/plain": [
       "Gas Used       2975184.00\n",
       "Gas Used RP    2949957.00\n",
       "Difference       83365.00\n",
       "%                   43.16\n",
       "dtype: float64"
      ]
     },
     "execution_count": 46,
     "metadata": {},
     "output_type": "execute_result"
    }
   ],
   "source": [
    "sample.iloc[:,2:].apply(np.max)"
   ]
  },
  {
   "cell_type": "markdown",
   "id": "38e02bd1",
   "metadata": {},
   "source": [
    "##### "
   ]
  }
 ],
 "metadata": {
  "kernelspec": {
   "display_name": "Python 3",
   "language": "python",
   "name": "python3"
  },
  "language_info": {
   "codemirror_mode": {
    "name": "ipython",
    "version": 3
   },
   "file_extension": ".py",
   "mimetype": "text/x-python",
   "name": "python",
   "nbconvert_exporter": "python",
   "pygments_lexer": "ipython3",
   "version": "3.9.2"
  }
 },
 "nbformat": 4,
 "nbformat_minor": 5
}
